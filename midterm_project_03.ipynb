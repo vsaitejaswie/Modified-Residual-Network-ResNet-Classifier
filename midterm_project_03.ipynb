{
  "nbformat": 4,
  "nbformat_minor": 0,
  "metadata": {
    "colab": {
      "provenance": []
    },
    "kernelspec": {
      "name": "python3",
      "display_name": "Python 3"
    },
    "language_info": {
      "name": "python"
    },
    "accelerator": "GPU",
    "gpuClass": "premium"
  },
  "cells": [
    {
      "cell_type": "markdown",
      "source": [
        "### Import Modules"
      ],
      "metadata": {
        "id": "6YqZd3YT8EKp"
      }
    },
    {
      "cell_type": "code",
      "execution_count": 1,
      "metadata": {
        "id": "ufMRWg9Ys-L_"
      },
      "outputs": [],
      "source": [
        "import torch\n",
        "import torch.nn as nn\n",
        "import torch.optim as optim\n",
        "from torchvision import datasets, models, transforms\n",
        "import matplotlib.pyplot as plt\n",
        "import torch.nn.functional as F\n",
        "import torch.backends.cudnn as cudnn\n",
        "import os\n",
        "import sys\n",
        "import time"
      ]
    },
    {
      "cell_type": "markdown",
      "source": [
        "### Hardware Accelerator Check"
      ],
      "metadata": {
        "id": "LvrCwMES74W4"
      }
    },
    {
      "cell_type": "code",
      "source": [
        "torch.cuda.is_available()"
      ],
      "metadata": {
        "colab": {
          "base_uri": "https://localhost:8080/"
        },
        "id": "mjUFclRx78qk",
        "outputId": "d50fbae6-36fa-4c66-8a48-4966f167b85a"
      },
      "execution_count": 2,
      "outputs": [
        {
          "output_type": "execute_result",
          "data": {
            "text/plain": [
              "True"
            ]
          },
          "metadata": {},
          "execution_count": 2
        }
      ]
    },
    {
      "cell_type": "code",
      "source": [
        "device = 'cuda' if torch.cuda.is_available() else 'cpu'"
      ],
      "metadata": {
        "id": "Pg-WAkTVzo2Q"
      },
      "execution_count": 3,
      "outputs": []
    },
    {
      "cell_type": "markdown",
      "source": [
        "### Data Preparation"
      ],
      "metadata": {
        "id": "ACZiV7w89N0l"
      }
    },
    {
      "cell_type": "code",
      "source": [
        "# defining data transforms for train and test datasets\n",
        "\n",
        "transform_train = transforms.Compose([\n",
        "    transforms.RandomCrop(32, padding=4),\n",
        "    transforms.RandomHorizontalFlip(),\n",
        "    transforms.ToTensor(),\n",
        "    transforms.Normalize((0.4914, 0.4822, 0.4465), (0.2470, 0.2434, 0.2615)),\n",
        "])\n",
        "\n",
        "transform_test = transforms.Compose([\n",
        "    transforms.ToTensor(),\n",
        "    transforms.Normalize((0.4914, 0.4822, 0.4465), (0.2470, 0.2434, 0.2615)),\n",
        "])\n"
      ],
      "metadata": {
        "id": "Xv5JdFPh-iSs"
      },
      "execution_count": 4,
      "outputs": []
    },
    {
      "cell_type": "code",
      "source": [
        "# importing CIFAR10 train and test datasets\n",
        "\n",
        "trainset = datasets.CIFAR10(root='./data', train=True, download=True, transform=transform_train)\n",
        "\n",
        "testset = datasets.CIFAR10(root='./data', train=False, download=True, transform=transform_test)"
      ],
      "metadata": {
        "colab": {
          "base_uri": "https://localhost:8080/"
        },
        "id": "hpYR5mrD9R99",
        "outputId": "1abaadde-8123-49e6-d0d4-b86425a5ac61"
      },
      "execution_count": 5,
      "outputs": [
        {
          "output_type": "stream",
          "name": "stdout",
          "text": [
            "Files already downloaded and verified\n",
            "Files already downloaded and verified\n"
          ]
        }
      ]
    },
    {
      "cell_type": "code",
      "source": [
        "# number of data points in train dataset\n",
        "\n",
        "trainset"
      ],
      "metadata": {
        "colab": {
          "base_uri": "https://localhost:8080/"
        },
        "id": "UwMYna8fAYG9",
        "outputId": "8e5fa51a-5ff6-48b0-f161-52fc98fbb817"
      },
      "execution_count": 6,
      "outputs": [
        {
          "output_type": "execute_result",
          "data": {
            "text/plain": [
              "Dataset CIFAR10\n",
              "    Number of datapoints: 50000\n",
              "    Root location: ./data\n",
              "    Split: Train\n",
              "    StandardTransform\n",
              "Transform: Compose(\n",
              "               RandomCrop(size=(32, 32), padding=4)\n",
              "               RandomHorizontalFlip(p=0.5)\n",
              "               ToTensor()\n",
              "               Normalize(mean=(0.4914, 0.4822, 0.4465), std=(0.247, 0.2434, 0.2615))\n",
              "           )"
            ]
          },
          "metadata": {},
          "execution_count": 6
        }
      ]
    },
    {
      "cell_type": "code",
      "source": [
        "# number of data points in test dataset\n",
        "\n",
        "testset"
      ],
      "metadata": {
        "colab": {
          "base_uri": "https://localhost:8080/"
        },
        "id": "ZoCxJBHyBCNH",
        "outputId": "05fce5e7-8b41-43bd-bba3-4329478c0cf0"
      },
      "execution_count": 7,
      "outputs": [
        {
          "output_type": "execute_result",
          "data": {
            "text/plain": [
              "Dataset CIFAR10\n",
              "    Number of datapoints: 10000\n",
              "    Root location: ./data\n",
              "    Split: Test\n",
              "    StandardTransform\n",
              "Transform: Compose(\n",
              "               ToTensor()\n",
              "               Normalize(mean=(0.4914, 0.4822, 0.4465), std=(0.247, 0.2434, 0.2615))\n",
              "           )"
            ]
          },
          "metadata": {},
          "execution_count": 7
        }
      ]
    },
    {
      "cell_type": "code",
      "source": [
        "# creating data loaders for train and test datasets\n",
        "\n",
        "trainloader = torch.utils.data.DataLoader(trainset, batch_size=128, shuffle=True, num_workers=2)\n",
        "\n",
        "testloader = torch.utils.data.DataLoader(testset, batch_size=100, shuffle=False, num_workers=2)\n"
      ],
      "metadata": {
        "id": "fk708NCiBX7T"
      },
      "execution_count": 8,
      "outputs": []
    },
    {
      "cell_type": "code",
      "source": [
        "# The different classes in CIFAR10 dataset are\n",
        "\n",
        "trainset.classes"
      ],
      "metadata": {
        "colab": {
          "base_uri": "https://localhost:8080/"
        },
        "id": "h29ZWJm5DAuh",
        "outputId": "3f5c8ed7-0437-47c1-c689-13fb1ee85906"
      },
      "execution_count": 9,
      "outputs": [
        {
          "output_type": "execute_result",
          "data": {
            "text/plain": [
              "['airplane',\n",
              " 'automobile',\n",
              " 'bird',\n",
              " 'cat',\n",
              " 'deer',\n",
              " 'dog',\n",
              " 'frog',\n",
              " 'horse',\n",
              " 'ship',\n",
              " 'truck']"
            ]
          },
          "metadata": {},
          "execution_count": 9
        }
      ]
    },
    {
      "cell_type": "code",
      "source": [
        "save_loss = {'train':[], 'test':[]}\n",
        "save_acc = {'train':[], 'test':[]}"
      ],
      "metadata": {
        "id": "YiVbKkRujG1W"
      },
      "execution_count": 10,
      "outputs": []
    },
    {
      "cell_type": "markdown",
      "source": [
        "### ResNet18 NN Basic Block"
      ],
      "metadata": {
        "id": "EInXPW4McCbW"
      }
    },
    {
      "cell_type": "code",
      "source": [
        "class BasicBlock(nn.Module):\n",
        "    expansion = 1\n",
        "\n",
        "    def __init__(self, in_planes, planes, stride=1):\n",
        "        super(BasicBlock, self).__init__()\n",
        "        self.conv1 = nn.Conv2d(in_planes, planes, kernel_size=3, stride=stride, padding=1, bias=False)\n",
        "        self.bn1 = nn.BatchNorm2d(planes)\n",
        "        self.conv2 = nn.Conv2d(planes, planes, kernel_size=3, stride=1, padding=1, bias=False)\n",
        "        self.bn2 = nn.BatchNorm2d(planes)\n",
        "\n",
        "        self.shortcut = nn.Sequential()\n",
        "        if stride != 1 or in_planes != self.expansion*planes:\n",
        "            self.shortcut = nn.Sequential(\n",
        "                nn.Conv2d(in_planes, self.expansion*planes,\n",
        "                          kernel_size=1, stride=stride, bias=False),\n",
        "                nn.BatchNorm2d(self.expansion*planes)\n",
        "            )\n",
        "\n",
        "    def forward(self, x):\n",
        "        out = F.relu(self.bn1(self.conv1(x)))\n",
        "        out = self.bn2(self.conv2(out))\n",
        "        out += self.shortcut(x)\n",
        "        out = F.relu(out)\n",
        "        return out"
      ],
      "metadata": {
        "id": "F2qgIJrKdlBR"
      },
      "execution_count": 11,
      "outputs": []
    },
    {
      "cell_type": "markdown",
      "source": [
        "### ResNet18 Architecture"
      ],
      "metadata": {
        "id": "Q426VQXygcsk"
      }
    },
    {
      "cell_type": "code",
      "source": [
        "class ResNet18(nn.Module):\n",
        "    def __init__(self, block, num_blocks, num_classes=10):\n",
        "        super(ResNet18, self).__init__()\n",
        "        self.in_planes = 64\n",
        "\n",
        "        self.conv1 = nn.Conv2d(3, 64, kernel_size=3,\n",
        "                               stride=1, padding=1, bias=False)\n",
        "        self.bn1 = nn.BatchNorm2d(64)\n",
        "        self.layer1 = self._make_layer(block, 64, num_blocks[0], stride=1)\n",
        "        self.layer2 = self._make_layer(block, 128, num_blocks[1], stride=2)\n",
        "        self.layer3 = self._make_layer(block, 256, num_blocks[2], stride=2)\n",
        "        self.layer4 = self._make_layer(block, 512, num_blocks[3], stride=2)\n",
        "        self.linear = nn.Linear(512*block.expansion, num_classes)\n",
        "        self.softmax = nn.Softmax()\n",
        "\n",
        "    def _make_layer(self, block, planes, num_blocks, stride):\n",
        "        strides = [stride] + [1]*(num_blocks-1)\n",
        "        layers = []\n",
        "        for stride in strides:\n",
        "            layers.append(block(self.in_planes, planes, stride))\n",
        "            self.in_planes = planes * block.expansion\n",
        "        return nn.Sequential(*layers)\n",
        "\n",
        "    def forward(self, x):\n",
        "        out = F.relu(self.bn1(self.conv1(x)))\n",
        "        out = self.layer1(out)\n",
        "        out = self.layer2(out)\n",
        "        out = self.layer3(out)\n",
        "        out = self.layer4(out)\n",
        "        out = F.avg_pool2d(out, 4)\n",
        "        out = out.view(out.size(0), -1)\n",
        "        out = self.softmax(out)\n",
        "        F.sof\n",
        "        return out"
      ],
      "metadata": {
        "id": "P0v523cAghUa"
      },
      "execution_count": 12,
      "outputs": []
    },
    {
      "cell_type": "markdown",
      "source": [
        "### Initialize the Model"
      ],
      "metadata": {
        "id": "OLeaBXhHjhwf"
      }
    },
    {
      "cell_type": "code",
      "source": [
        "net = ResNet18(BasicBlock, [2, 2, 2, 2])"
      ],
      "metadata": {
        "id": "J7pxIGqijjz2"
      },
      "execution_count": 13,
      "outputs": []
    },
    {
      "cell_type": "code",
      "source": [
        "net = net.to(device)\n",
        "if device == 'cuda':\n",
        "    net = torch.nn.DataParallel(net)\n",
        "    cudnn.benchmark = True\n",
        "    print(\"Device is set to CUDA\")"
      ],
      "metadata": {
        "colab": {
          "base_uri": "https://localhost:8080/"
        },
        "id": "EvhKWuXTjzEZ",
        "outputId": "22b333ad-3dec-49f5-fe80-ee50996c0948"
      },
      "execution_count": 14,
      "outputs": [
        {
          "output_type": "stream",
          "name": "stdout",
          "text": [
            "Device is set to CUDA\n"
          ]
        }
      ]
    },
    {
      "cell_type": "code",
      "source": [
        "best_acc = 0  # best test accuracy\n",
        "start_epoch = 0 # start from epoch 0 or last checkpoint epoch"
      ],
      "metadata": {
        "id": "dtC0jvf_kQYU"
      },
      "execution_count": 15,
      "outputs": []
    },
    {
      "cell_type": "markdown",
      "source": [
        "### Define Optimizer"
      ],
      "metadata": {
        "id": "AcyhvqZfkuTh"
      }
    },
    {
      "cell_type": "code",
      "source": [
        "criterion = nn.CrossEntropyLoss()\n",
        "\n",
        "optimizer = optim.SGD(net.parameters(), lr=0.01,\n",
        "                      momentum=0.9, weight_decay=5e-4)\n",
        "\n",
        "scheduler = torch.optim.lr_scheduler.CosineAnnealingLR(optimizer, T_max=200)"
      ],
      "metadata": {
        "id": "tY8PnX79kx6f"
      },
      "execution_count": 16,
      "outputs": []
    },
    {
      "cell_type": "markdown",
      "source": [
        "### Training"
      ],
      "metadata": {
        "id": "LjZwX5IGlC6v"
      }
    },
    {
      "cell_type": "code",
      "source": [
        "def train(epoch):\n",
        "    print('\\nEpoch: %d' % epoch)\n",
        "    net.train()\n",
        "    train_loss = 0\n",
        "    correct = 0\n",
        "    total = 0\n",
        "    for batch_idx, (inputs, targets) in enumerate(trainloader):\n",
        "        inputs, targets = inputs.to(device), targets.to(device)\n",
        "        optimizer.zero_grad()\n",
        "        outputs = net(inputs)\n",
        "        loss = criterion(outputs, targets)\n",
        "        loss.backward()\n",
        "        optimizer.step()\n",
        "\n",
        "        train_loss += loss.item()\n",
        "        _, predicted = outputs.max(1)\n",
        "        total += targets.size(0)\n",
        "        correct += predicted.eq(targets).sum().item()\n",
        "\n",
        "    print('Train Loss: %.3f | Train Acc: %.3f%% (%d/%d)'% (train_loss/(batch_idx+1), 100.*correct/total, correct, total))\n",
        "    save_loss['train'].append(train_loss/(batch_idx+1))\n",
        "    save_acc['train'].append(100.*correct/total)"
      ],
      "metadata": {
        "id": "8mH6UrxulEb7"
      },
      "execution_count": 17,
      "outputs": []
    },
    {
      "cell_type": "markdown",
      "source": [
        "### Testing"
      ],
      "metadata": {
        "id": "PlaAGeTrlGZe"
      }
    },
    {
      "cell_type": "code",
      "source": [
        "def test(epoch):\n",
        "    global best_acc\n",
        "    net.eval()\n",
        "    test_loss = 0\n",
        "    correct = 0\n",
        "    total = 0\n",
        "    with torch.no_grad():\n",
        "        for batch_idx, (inputs, targets) in enumerate(testloader):\n",
        "            inputs, targets = inputs.to(device), targets.to(device)\n",
        "            outputs = net(inputs)\n",
        "            loss = criterion(outputs, targets)\n",
        "\n",
        "            test_loss += loss.item()\n",
        "            _, predicted = outputs.max(1)\n",
        "            total += targets.size(0)\n",
        "            correct += predicted.eq(targets).sum().item()\n",
        "\n",
        "        print('Test Loss: %.3f | Test Acc: %.3f%% (%d/%d)'% (test_loss/(batch_idx+1), 100.*correct/total, correct, total))\n",
        "        save_loss['test'].append(test_loss/(batch_idx+1))\n",
        "        save_acc['test'].append(100.*correct/total)\n",
        "\n",
        "    # Save checkpoint.\n",
        "    acc = 100.*correct/total\n",
        "    if acc > best_acc:\n",
        "        print('Saving..')\n",
        "        state = {\n",
        "            'net': net.state_dict(),\n",
        "            'acc': acc,\n",
        "            'epoch': epoch,\n",
        "        }\n",
        "        if not os.path.isdir('checkpoint'):\n",
        "            os.mkdir('checkpoint')\n",
        "        torch.save(state, './checkpoint/ckpt.pth')\n",
        "        best_acc = acc\n"
      ],
      "metadata": {
        "id": "yfc1pPlclHu1"
      },
      "execution_count": 18,
      "outputs": []
    },
    {
      "cell_type": "markdown",
      "source": [
        "### Train and Evaluate"
      ],
      "metadata": {
        "id": "OwmJ6hWSpuy0"
      }
    },
    {
      "cell_type": "code",
      "source": [
        "for epoch in range(start_epoch, 100):\n",
        "    train(epoch)\n",
        "    test(epoch)\n",
        "    scheduler.step()"
      ],
      "metadata": {
        "colab": {
          "base_uri": "https://localhost:8080/"
        },
        "id": "VTKUBhizpzv7",
        "outputId": "60bc8a06-63d9-4850-cec7-86ca9dbda52c"
      },
      "execution_count": 19,
      "outputs": [
        {
          "output_type": "stream",
          "name": "stdout",
          "text": [
            "\n",
            "Epoch: 0\n"
          ]
        },
        {
          "output_type": "stream",
          "name": "stderr",
          "text": [
            "<ipython-input-12-c0bf8ff740cd>:32: UserWarning: Implicit dimension choice for softmax has been deprecated. Change the call to include dim=X as an argument.\n",
            "  out = self.softmax(out)\n"
          ]
        },
        {
          "output_type": "stream",
          "name": "stdout",
          "text": [
            "Train Loss: 6.198 | Train Acc: 13.110% (6555/50000)\n",
            "Test Loss: 6.082 | Test Acc: 29.950% (2995/10000)\n",
            "Saving..\n",
            "\n",
            "Epoch: 1\n",
            "Train Loss: 5.991 | Train Acc: 35.602% (17801/50000)\n",
            "Test Loss: 5.884 | Test Acc: 41.760% (4176/10000)\n",
            "Saving..\n",
            "\n",
            "Epoch: 2\n",
            "Train Loss: 5.830 | Train Acc: 46.224% (23112/50000)\n",
            "Test Loss: 5.848 | Test Acc: 42.820% (4282/10000)\n",
            "Saving..\n",
            "\n",
            "Epoch: 3\n",
            "Train Loss: 5.735 | Train Acc: 53.528% (26764/50000)\n",
            "Test Loss: 5.690 | Test Acc: 57.370% (5737/10000)\n",
            "Saving..\n",
            "\n",
            "Epoch: 4\n",
            "Train Loss: 5.680 | Train Acc: 58.084% (29042/50000)\n",
            "Test Loss: 5.654 | Test Acc: 60.070% (6007/10000)\n",
            "Saving..\n",
            "\n",
            "Epoch: 5\n",
            "Train Loss: 5.634 | Train Acc: 62.448% (31224/50000)\n",
            "Test Loss: 5.650 | Test Acc: 60.360% (6036/10000)\n",
            "Saving..\n",
            "\n",
            "Epoch: 6\n",
            "Train Loss: 5.606 | Train Acc: 64.918% (32459/50000)\n",
            "Test Loss: 5.642 | Test Acc: 60.880% (6088/10000)\n",
            "Saving..\n",
            "\n",
            "Epoch: 7\n",
            "Train Loss: 5.579 | Train Acc: 67.564% (33782/50000)\n",
            "Test Loss: 5.622 | Test Acc: 63.080% (6308/10000)\n",
            "Saving..\n",
            "\n",
            "Epoch: 8\n",
            "Train Loss: 5.554 | Train Acc: 69.902% (34951/50000)\n",
            "Test Loss: 5.569 | Test Acc: 68.280% (6828/10000)\n",
            "Saving..\n",
            "\n",
            "Epoch: 9\n",
            "Train Loss: 5.534 | Train Acc: 71.944% (35972/50000)\n",
            "Test Loss: 5.539 | Test Acc: 70.940% (7094/10000)\n",
            "Saving..\n",
            "\n",
            "Epoch: 10\n",
            "Train Loss: 5.517 | Train Acc: 73.508% (36754/50000)\n",
            "Test Loss: 5.541 | Test Acc: 70.860% (7086/10000)\n",
            "\n",
            "Epoch: 11\n",
            "Train Loss: 5.499 | Train Acc: 75.364% (37682/50000)\n",
            "Test Loss: 5.588 | Test Acc: 66.110% (6611/10000)\n",
            "\n",
            "Epoch: 12\n",
            "Train Loss: 5.488 | Train Acc: 76.404% (38202/50000)\n",
            "Test Loss: 5.485 | Test Acc: 76.420% (7642/10000)\n",
            "Saving..\n",
            "\n",
            "Epoch: 13\n",
            "Train Loss: 5.479 | Train Acc: 77.272% (38636/50000)\n",
            "Test Loss: 5.478 | Test Acc: 76.990% (7699/10000)\n",
            "Saving..\n",
            "\n",
            "Epoch: 14\n",
            "Train Loss: 5.470 | Train Acc: 78.080% (39040/50000)\n",
            "Test Loss: 5.486 | Test Acc: 76.280% (7628/10000)\n",
            "\n",
            "Epoch: 15\n",
            "Train Loss: 5.459 | Train Acc: 79.086% (39543/50000)\n",
            "Test Loss: 5.495 | Test Acc: 75.310% (7531/10000)\n",
            "\n",
            "Epoch: 16\n",
            "Train Loss: 5.452 | Train Acc: 79.782% (39891/50000)\n",
            "Test Loss: 5.478 | Test Acc: 77.020% (7702/10000)\n",
            "Saving..\n",
            "\n",
            "Epoch: 17\n",
            "Train Loss: 5.445 | Train Acc: 80.580% (40290/50000)\n",
            "Test Loss: 5.447 | Test Acc: 80.270% (8027/10000)\n",
            "Saving..\n",
            "\n",
            "Epoch: 18\n",
            "Train Loss: 5.437 | Train Acc: 81.268% (40634/50000)\n",
            "Test Loss: 5.467 | Test Acc: 78.170% (7817/10000)\n",
            "\n",
            "Epoch: 19\n",
            "Train Loss: 5.432 | Train Acc: 81.750% (40875/50000)\n",
            "Test Loss: 5.477 | Test Acc: 77.090% (7709/10000)\n",
            "\n",
            "Epoch: 20\n",
            "Train Loss: 5.429 | Train Acc: 82.086% (41043/50000)\n",
            "Test Loss: 5.483 | Test Acc: 76.490% (7649/10000)\n",
            "\n",
            "Epoch: 21\n",
            "Train Loss: 5.424 | Train Acc: 82.578% (41289/50000)\n",
            "Test Loss: 5.429 | Test Acc: 81.870% (8187/10000)\n",
            "Saving..\n",
            "\n",
            "Epoch: 22\n",
            "Train Loss: 5.421 | Train Acc: 82.830% (41415/50000)\n",
            "Test Loss: 5.472 | Test Acc: 77.720% (7772/10000)\n",
            "\n",
            "Epoch: 23\n",
            "Train Loss: 5.414 | Train Acc: 83.512% (41756/50000)\n",
            "Test Loss: 5.441 | Test Acc: 80.480% (8048/10000)\n",
            "\n",
            "Epoch: 24\n",
            "Train Loss: 5.412 | Train Acc: 83.706% (41853/50000)\n",
            "Test Loss: 5.428 | Test Acc: 81.910% (8191/10000)\n",
            "Saving..\n",
            "\n",
            "Epoch: 25\n",
            "Train Loss: 5.407 | Train Acc: 84.196% (42098/50000)\n",
            "Test Loss: 5.429 | Test Acc: 81.940% (8194/10000)\n",
            "Saving..\n",
            "\n",
            "Epoch: 26\n",
            "Train Loss: 5.403 | Train Acc: 84.670% (42335/50000)\n",
            "Test Loss: 5.459 | Test Acc: 78.810% (7881/10000)\n",
            "\n",
            "Epoch: 27\n",
            "Train Loss: 5.402 | Train Acc: 84.694% (42347/50000)\n",
            "Test Loss: 5.418 | Test Acc: 82.810% (8281/10000)\n",
            "Saving..\n",
            "\n",
            "Epoch: 28\n",
            "Train Loss: 5.396 | Train Acc: 85.326% (42663/50000)\n",
            "Test Loss: 5.448 | Test Acc: 79.960% (7996/10000)\n",
            "\n",
            "Epoch: 29\n",
            "Train Loss: 5.396 | Train Acc: 85.294% (42647/50000)\n",
            "Test Loss: 5.413 | Test Acc: 83.350% (8335/10000)\n",
            "Saving..\n",
            "\n",
            "Epoch: 30\n",
            "Train Loss: 5.390 | Train Acc: 85.900% (42950/50000)\n",
            "Test Loss: 5.416 | Test Acc: 83.000% (8300/10000)\n",
            "\n",
            "Epoch: 31\n",
            "Train Loss: 5.390 | Train Acc: 85.834% (42917/50000)\n",
            "Test Loss: 5.403 | Test Acc: 84.360% (8436/10000)\n",
            "Saving..\n",
            "\n",
            "Epoch: 32\n",
            "Train Loss: 5.390 | Train Acc: 85.874% (42937/50000)\n",
            "Test Loss: 5.414 | Test Acc: 83.290% (8329/10000)\n",
            "\n",
            "Epoch: 33\n",
            "Train Loss: 5.384 | Train Acc: 86.586% (43293/50000)\n",
            "Test Loss: 5.395 | Test Acc: 85.330% (8533/10000)\n",
            "Saving..\n",
            "\n",
            "Epoch: 34\n",
            "Train Loss: 5.380 | Train Acc: 86.880% (43440/50000)\n",
            "Test Loss: 5.436 | Test Acc: 80.960% (8096/10000)\n",
            "\n",
            "Epoch: 35\n",
            "Train Loss: 5.381 | Train Acc: 86.706% (43353/50000)\n",
            "Test Loss: 5.406 | Test Acc: 84.100% (8410/10000)\n",
            "\n",
            "Epoch: 36\n",
            "Train Loss: 5.379 | Train Acc: 86.916% (43458/50000)\n",
            "Test Loss: 5.397 | Test Acc: 85.060% (8506/10000)\n",
            "\n",
            "Epoch: 37\n",
            "Train Loss: 5.376 | Train Acc: 87.204% (43602/50000)\n",
            "Test Loss: 5.416 | Test Acc: 83.040% (8304/10000)\n",
            "\n",
            "Epoch: 38\n",
            "Train Loss: 5.373 | Train Acc: 87.446% (43723/50000)\n",
            "Test Loss: 5.411 | Test Acc: 83.500% (8350/10000)\n",
            "\n",
            "Epoch: 39\n",
            "Train Loss: 5.374 | Train Acc: 87.396% (43698/50000)\n",
            "Test Loss: 5.387 | Test Acc: 85.820% (8582/10000)\n",
            "Saving..\n",
            "\n",
            "Epoch: 40\n",
            "Train Loss: 5.370 | Train Acc: 87.768% (43884/50000)\n",
            "Test Loss: 5.379 | Test Acc: 86.660% (8666/10000)\n",
            "Saving..\n",
            "\n",
            "Epoch: 41\n",
            "Train Loss: 5.365 | Train Acc: 88.314% (44157/50000)\n",
            "Test Loss: 5.395 | Test Acc: 85.080% (8508/10000)\n",
            "\n",
            "Epoch: 42\n",
            "Train Loss: 5.366 | Train Acc: 88.288% (44144/50000)\n",
            "Test Loss: 5.391 | Test Acc: 85.490% (8549/10000)\n",
            "\n",
            "Epoch: 43\n",
            "Train Loss: 5.367 | Train Acc: 88.064% (44032/50000)\n",
            "Test Loss: 5.400 | Test Acc: 84.550% (8455/10000)\n",
            "\n",
            "Epoch: 44\n",
            "Train Loss: 5.363 | Train Acc: 88.502% (44251/50000)\n",
            "Test Loss: 5.386 | Test Acc: 86.000% (8600/10000)\n",
            "\n",
            "Epoch: 45\n",
            "Train Loss: 5.362 | Train Acc: 88.596% (44298/50000)\n",
            "Test Loss: 5.396 | Test Acc: 84.900% (8490/10000)\n",
            "\n",
            "Epoch: 46\n",
            "Train Loss: 5.361 | Train Acc: 88.726% (44363/50000)\n",
            "Test Loss: 5.390 | Test Acc: 85.870% (8587/10000)\n",
            "\n",
            "Epoch: 47\n",
            "Train Loss: 5.356 | Train Acc: 89.182% (44591/50000)\n",
            "Test Loss: 5.391 | Test Acc: 85.520% (8552/10000)\n",
            "\n",
            "Epoch: 48\n",
            "Train Loss: 5.358 | Train Acc: 88.988% (44494/50000)\n",
            "Test Loss: 5.384 | Test Acc: 86.130% (8613/10000)\n",
            "\n",
            "Epoch: 49\n",
            "Train Loss: 5.355 | Train Acc: 89.332% (44666/50000)\n",
            "Test Loss: 5.384 | Test Acc: 86.240% (8624/10000)\n",
            "\n",
            "Epoch: 50\n",
            "Train Loss: 5.355 | Train Acc: 89.236% (44618/50000)\n",
            "Test Loss: 5.375 | Test Acc: 87.090% (8709/10000)\n",
            "Saving..\n",
            "\n",
            "Epoch: 51\n",
            "Train Loss: 5.353 | Train Acc: 89.486% (44743/50000)\n",
            "Test Loss: 5.372 | Test Acc: 87.380% (8738/10000)\n",
            "Saving..\n",
            "\n",
            "Epoch: 52\n",
            "Train Loss: 5.352 | Train Acc: 89.546% (44773/50000)\n",
            "Test Loss: 5.399 | Test Acc: 84.620% (8462/10000)\n",
            "\n",
            "Epoch: 53\n",
            "Train Loss: 5.353 | Train Acc: 89.472% (44736/50000)\n",
            "Test Loss: 5.382 | Test Acc: 86.410% (8641/10000)\n",
            "\n",
            "Epoch: 54\n",
            "Train Loss: 5.350 | Train Acc: 89.838% (44919/50000)\n",
            "Test Loss: 5.378 | Test Acc: 86.770% (8677/10000)\n",
            "\n",
            "Epoch: 55\n",
            "Train Loss: 5.348 | Train Acc: 89.920% (44960/50000)\n",
            "Test Loss: 5.377 | Test Acc: 86.920% (8692/10000)\n",
            "\n",
            "Epoch: 56\n",
            "Train Loss: 5.349 | Train Acc: 89.782% (44891/50000)\n",
            "Test Loss: 5.396 | Test Acc: 84.910% (8491/10000)\n",
            "\n",
            "Epoch: 57\n",
            "Train Loss: 5.345 | Train Acc: 90.140% (45070/50000)\n",
            "Test Loss: 5.376 | Test Acc: 86.950% (8695/10000)\n",
            "\n",
            "Epoch: 58\n",
            "Train Loss: 5.345 | Train Acc: 90.226% (45113/50000)\n",
            "Test Loss: 5.383 | Test Acc: 86.100% (8610/10000)\n",
            "\n",
            "Epoch: 59\n",
            "Train Loss: 5.342 | Train Acc: 90.478% (45239/50000)\n",
            "Test Loss: 5.367 | Test Acc: 87.890% (8789/10000)\n",
            "Saving..\n",
            "\n",
            "Epoch: 60\n",
            "Train Loss: 5.342 | Train Acc: 90.588% (45294/50000)\n",
            "Test Loss: 5.375 | Test Acc: 87.020% (8702/10000)\n",
            "\n",
            "Epoch: 61\n",
            "Train Loss: 5.339 | Train Acc: 90.774% (45387/50000)\n",
            "Test Loss: 5.379 | Test Acc: 86.630% (8663/10000)\n",
            "\n",
            "Epoch: 62\n",
            "Train Loss: 5.340 | Train Acc: 90.724% (45362/50000)\n",
            "Test Loss: 5.382 | Test Acc: 86.310% (8631/10000)\n",
            "\n",
            "Epoch: 63\n",
            "Train Loss: 5.339 | Train Acc: 90.868% (45434/50000)\n",
            "Test Loss: 5.379 | Test Acc: 86.620% (8662/10000)\n",
            "\n",
            "Epoch: 64\n",
            "Train Loss: 5.339 | Train Acc: 90.828% (45414/50000)\n",
            "Test Loss: 5.374 | Test Acc: 87.130% (8713/10000)\n",
            "\n",
            "Epoch: 65\n",
            "Train Loss: 5.336 | Train Acc: 91.078% (45539/50000)\n",
            "Test Loss: 5.373 | Test Acc: 87.370% (8737/10000)\n",
            "\n",
            "Epoch: 66\n",
            "Train Loss: 5.337 | Train Acc: 91.024% (45512/50000)\n",
            "Test Loss: 5.376 | Test Acc: 87.010% (8701/10000)\n",
            "\n",
            "Epoch: 67\n",
            "Train Loss: 5.335 | Train Acc: 91.192% (45596/50000)\n",
            "Test Loss: 5.374 | Test Acc: 87.110% (8711/10000)\n",
            "\n",
            "Epoch: 68\n",
            "Train Loss: 5.335 | Train Acc: 91.240% (45620/50000)\n",
            "Test Loss: 5.362 | Test Acc: 88.310% (8831/10000)\n",
            "Saving..\n",
            "\n",
            "Epoch: 69\n",
            "Train Loss: 5.332 | Train Acc: 91.486% (45743/50000)\n",
            "Test Loss: 5.380 | Test Acc: 86.670% (8667/10000)\n",
            "\n",
            "Epoch: 70\n",
            "Train Loss: 5.335 | Train Acc: 91.240% (45620/50000)\n",
            "Test Loss: 5.366 | Test Acc: 87.930% (8793/10000)\n",
            "\n",
            "Epoch: 71\n",
            "Train Loss: 5.334 | Train Acc: 91.302% (45651/50000)\n",
            "Test Loss: 5.356 | Test Acc: 88.940% (8894/10000)\n",
            "Saving..\n",
            "\n",
            "Epoch: 72\n",
            "Train Loss: 5.330 | Train Acc: 91.692% (45846/50000)\n",
            "Test Loss: 5.351 | Test Acc: 89.510% (8951/10000)\n",
            "Saving..\n",
            "\n",
            "Epoch: 73\n",
            "Train Loss: 5.329 | Train Acc: 91.768% (45884/50000)\n",
            "Test Loss: 5.353 | Test Acc: 89.180% (8918/10000)\n",
            "\n",
            "Epoch: 74\n",
            "Train Loss: 5.330 | Train Acc: 91.710% (45855/50000)\n",
            "Test Loss: 5.360 | Test Acc: 88.570% (8857/10000)\n",
            "\n",
            "Epoch: 75\n",
            "Train Loss: 5.327 | Train Acc: 91.994% (45997/50000)\n",
            "Test Loss: 5.365 | Test Acc: 88.040% (8804/10000)\n",
            "\n",
            "Epoch: 76\n",
            "Train Loss: 5.328 | Train Acc: 91.926% (45963/50000)\n",
            "Test Loss: 5.362 | Test Acc: 88.260% (8826/10000)\n",
            "\n",
            "Epoch: 77\n",
            "Train Loss: 5.326 | Train Acc: 92.114% (46057/50000)\n",
            "Test Loss: 5.363 | Test Acc: 88.200% (8820/10000)\n",
            "\n",
            "Epoch: 78\n",
            "Train Loss: 5.329 | Train Acc: 91.878% (45939/50000)\n",
            "Test Loss: 5.360 | Test Acc: 88.550% (8855/10000)\n",
            "\n",
            "Epoch: 79\n",
            "Train Loss: 5.327 | Train Acc: 91.944% (45972/50000)\n",
            "Test Loss: 5.371 | Test Acc: 87.300% (8730/10000)\n",
            "\n",
            "Epoch: 80\n",
            "Train Loss: 5.322 | Train Acc: 92.424% (46212/50000)\n",
            "Test Loss: 5.360 | Test Acc: 88.470% (8847/10000)\n",
            "\n",
            "Epoch: 81\n",
            "Train Loss: 5.323 | Train Acc: 92.406% (46203/50000)\n",
            "Test Loss: 5.370 | Test Acc: 87.560% (8756/10000)\n",
            "\n",
            "Epoch: 82\n",
            "Train Loss: 5.323 | Train Acc: 92.396% (46198/50000)\n",
            "Test Loss: 5.359 | Test Acc: 88.550% (8855/10000)\n",
            "\n",
            "Epoch: 83\n",
            "Train Loss: 5.323 | Train Acc: 92.354% (46177/50000)\n",
            "Test Loss: 5.357 | Test Acc: 88.750% (8875/10000)\n",
            "\n",
            "Epoch: 84\n",
            "Train Loss: 5.321 | Train Acc: 92.610% (46305/50000)\n",
            "Test Loss: 5.360 | Test Acc: 88.390% (8839/10000)\n",
            "\n",
            "Epoch: 85\n",
            "Train Loss: 5.320 | Train Acc: 92.648% (46324/50000)\n",
            "Test Loss: 5.367 | Test Acc: 87.780% (8778/10000)\n",
            "\n",
            "Epoch: 86\n",
            "Train Loss: 5.323 | Train Acc: 92.402% (46201/50000)\n",
            "Test Loss: 5.356 | Test Acc: 88.820% (8882/10000)\n",
            "\n",
            "Epoch: 87\n",
            "Train Loss: 5.317 | Train Acc: 92.914% (46457/50000)\n",
            "Test Loss: 5.363 | Test Acc: 88.220% (8822/10000)\n",
            "\n",
            "Epoch: 88\n",
            "Train Loss: 5.317 | Train Acc: 92.890% (46445/50000)\n",
            "Test Loss: 5.358 | Test Acc: 88.710% (8871/10000)\n",
            "\n",
            "Epoch: 89\n",
            "Train Loss: 5.313 | Train Acc: 93.366% (46683/50000)\n",
            "Test Loss: 5.345 | Test Acc: 89.970% (8997/10000)\n",
            "Saving..\n",
            "\n",
            "Epoch: 90\n",
            "Train Loss: 5.316 | Train Acc: 93.020% (46510/50000)\n",
            "Test Loss: 5.353 | Test Acc: 89.080% (8908/10000)\n",
            "\n",
            "Epoch: 91\n",
            "Train Loss: 5.313 | Train Acc: 93.418% (46709/50000)\n",
            "Test Loss: 5.359 | Test Acc: 88.490% (8849/10000)\n",
            "\n",
            "Epoch: 92\n",
            "Train Loss: 5.314 | Train Acc: 93.192% (46596/50000)\n",
            "Test Loss: 5.345 | Test Acc: 89.970% (8997/10000)\n",
            "\n",
            "Epoch: 93\n",
            "Train Loss: 5.312 | Train Acc: 93.380% (46690/50000)\n",
            "Test Loss: 5.351 | Test Acc: 89.460% (8946/10000)\n",
            "\n",
            "Epoch: 94\n",
            "Train Loss: 5.314 | Train Acc: 93.204% (46602/50000)\n",
            "Test Loss: 5.352 | Test Acc: 89.200% (8920/10000)\n",
            "\n",
            "Epoch: 95\n",
            "Train Loss: 5.310 | Train Acc: 93.654% (46827/50000)\n",
            "Test Loss: 5.350 | Test Acc: 89.410% (8941/10000)\n",
            "\n",
            "Epoch: 96\n",
            "Train Loss: 5.313 | Train Acc: 93.330% (46665/50000)\n",
            "Test Loss: 5.357 | Test Acc: 88.820% (8882/10000)\n",
            "\n",
            "Epoch: 97\n",
            "Train Loss: 5.311 | Train Acc: 93.560% (46780/50000)\n",
            "Test Loss: 5.349 | Test Acc: 89.660% (8966/10000)\n",
            "\n",
            "Epoch: 98\n",
            "Train Loss: 5.309 | Train Acc: 93.764% (46882/50000)\n",
            "Test Loss: 5.349 | Test Acc: 89.620% (8962/10000)\n",
            "\n",
            "Epoch: 99\n",
            "Train Loss: 5.309 | Train Acc: 93.726% (46863/50000)\n",
            "Test Loss: 5.345 | Test Acc: 89.920% (8992/10000)\n"
          ]
        }
      ]
    },
    {
      "cell_type": "code",
      "source": [
        "plt.plot(range(1,101), save_acc['train'])\n",
        "plt.xlabel(\"epoch\")\n",
        "plt.ylabel(\"train accuracy\")\n",
        "plt.title(\"Train Accuracy vs Epoch\")"
      ],
      "metadata": {
        "id": "ijwF2Koij2y9",
        "colab": {
          "base_uri": "https://localhost:8080/",
          "height": 489
        },
        "outputId": "333eed7b-7467-4bf3-dcbe-2e851febeff2"
      },
      "execution_count": 20,
      "outputs": [
        {
          "output_type": "execute_result",
          "data": {
            "text/plain": [
              "Text(0.5, 1.0, 'Train Accuracy vs Epoch')"
            ]
          },
          "metadata": {},
          "execution_count": 20
        },
        {
          "output_type": "display_data",
          "data": {
            "text/plain": [
              "<Figure size 640x480 with 1 Axes>"
            ],
            "image/png": "[encoded data removed]"
          },
          "metadata": {}
        }
      ]
    },
    {
      "cell_type": "code",
      "source": [
        "plt.plot(range(1,101), save_acc['test'])\n",
        "plt.xlabel(\"epochs\")\n",
        "plt.ylabel(\"test accuracy\")\n",
        "plt.title(\"Test Accuracy vs Epoch\")"
      ],
      "metadata": {
        "id": "19ikIlu6ps-o",
        "colab": {
          "base_uri": "https://localhost:8080/",
          "height": 489
        },
        "outputId": "59dfeec8-9523-47b7-9531-f0493563458c"
      },
      "execution_count": 21,
      "outputs": [
        {
          "output_type": "execute_result",
          "data": {
            "text/plain": [
              "Text(0.5, 1.0, 'Test Accuracy vs Epoch')"
            ]
          },
          "metadata": {},
          "execution_count": 21
        },
        {
          "output_type": "display_data",
          "data": {
            "text/plain": [
              "<Figure size 640x480 with 1 Axes>"
            ],
            "image/png": "[encoded data removed]"
          },
          "metadata": {}
        }
      ]
    },
    {
      "cell_type": "code",
      "source": [
        "plt.plot(range(1,101), save_loss['train'])\n",
        "plt.xlabel(\"epoch\")\n",
        "plt.ylabel(\"train loss\")\n",
        "plt.title(\"Train Loss vs Epoch\")"
      ],
      "metadata": {
        "id": "F_Sez2pqkZ-B",
        "colab": {
          "base_uri": "https://localhost:8080/",
          "height": 489
        },
        "outputId": "2770a332-7569-431c-d73b-61767b76a4b5"
      },
      "execution_count": 22,
      "outputs": [
        {
          "output_type": "execute_result",
          "data": {
            "text/plain": [
              "Text(0.5, 1.0, 'Train Loss vs Epoch')"
            ]
          },
          "metadata": {},
          "execution_count": 22
        },
        {
          "output_type": "display_data",
          "data": {
            "text/plain": [
              "<Figure size 640x480 with 1 Axes>"
            ],
            "image/png": "[encoded data removed]"
          },
          "metadata": {}
        }
      ]
    },
    {
      "cell_type": "code",
      "source": [
        "plt.plot(range(1,101), save_loss['test'])\n",
        "plt.xlabel(\"epoch\")\n",
        "plt.ylabel(\"test loss\")\n",
        "plt.title(\"Test Loss vs Epoch\")"
      ],
      "metadata": {
        "id": "qWJRLAkiqm1w",
        "colab": {
          "base_uri": "https://localhost:8080/",
          "height": 489
        },
        "outputId": "41852f3d-9bdf-4332-ace2-86cca46f9bf5"
      },
      "execution_count": 23,
      "outputs": [
        {
          "output_type": "execute_result",
          "data": {
            "text/plain": [
              "Text(0.5, 1.0, 'Test Loss vs Epoch')"
            ]
          },
          "metadata": {},
          "execution_count": 23
        },
        {
          "output_type": "display_data",
          "data": {
            "text/plain": [
              "<Figure size 640x480 with 1 Axes>"
            ],
            "image/png": "[encoded data removed]"
          },
          "metadata": {}
        }
      ]
    }
  ]
}