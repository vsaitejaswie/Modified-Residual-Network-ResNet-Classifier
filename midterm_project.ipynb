{
  "nbformat": 4,
  "nbformat_minor": 0,
  "metadata": {
    "colab": {
      "provenance": []
    },
    "kernelspec": {
      "name": "python3",
      "display_name": "Python 3"
    },
    "language_info": {
      "name": "python"
    },
    "accelerator": "GPU",
    "gpuClass": "premium"
  },
  "cells": [
    {
      "cell_type": "markdown",
      "source": [
        "### Import Modules"
      ],
      "metadata": {
        "id": "6YqZd3YT8EKp"
      }
    },
    {
      "cell_type": "code",
      "execution_count": 1,
      "metadata": {
        "id": "ufMRWg9Ys-L_"
      },
      "outputs": [],
      "source": [
        "import torch\n",
        "import torch.nn as nn\n",
        "import torch.optim as optim\n",
        "from torchvision import datasets, models, transforms\n",
        "import matplotlib.pyplot as plt\n",
        "import torch.nn.functional as F\n",
        "import torch.backends.cudnn as cudnn\n",
        "import os\n",
        "import sys\n",
        "import time"
      ]
    },
    {
      "cell_type": "markdown",
      "source": [
        "### Hardware Accelerator Check"
      ],
      "metadata": {
        "id": "LvrCwMES74W4"
      }
    },
    {
      "cell_type": "code",
      "source": [
        "torch.cuda.is_available()"
      ],
      "metadata": {
        "colab": {
          "base_uri": "https://localhost:8080/"
        },
        "id": "mjUFclRx78qk",
        "outputId": "6eecdd0b-d672-481c-f8cf-315a0b31e6de"
      },
      "execution_count": 2,
      "outputs": [
        {
          "output_type": "execute_result",
          "data": {
            "text/plain": [
              "True"
            ]
          },
          "metadata": {},
          "execution_count": 2
        }
      ]
    },
    {
      "cell_type": "code",
      "source": [
        "device = 'cuda' if torch.cuda.is_available() else 'cpu'"
      ],
      "metadata": {
        "id": "Pg-WAkTVzo2Q"
      },
      "execution_count": 3,
      "outputs": []
    },
    {
      "cell_type": "markdown",
      "source": [
        "### Data Preparation"
      ],
      "metadata": {
        "id": "ACZiV7w89N0l"
      }
    },
    {
      "cell_type": "code",
      "source": [
        "# defining data transforms for train and test datasets\n",
        "\n",
        "transform_train = transforms.Compose([\n",
        "    transforms.RandomCrop(32, padding=4),\n",
        "    transforms.RandomHorizontalFlip(),\n",
        "    transforms.ToTensor(),\n",
        "    transforms.Normalize((0.4914, 0.4822, 0.4465), (0.2470, 0.2434, 0.2615)),\n",
        "])\n",
        "\n",
        "transform_test = transforms.Compose([\n",
        "    transforms.ToTensor(),\n",
        "    transforms.Normalize((0.4914, 0.4822, 0.4465), (0.2470, 0.2434, 0.2615)),\n",
        "])\n"
      ],
      "metadata": {
        "id": "Xv5JdFPh-iSs"
      },
      "execution_count": 4,
      "outputs": []
    },
    {
      "cell_type": "code",
      "source": [
        "# importing CIFAR10 train and test datasets\n",
        "\n",
        "trainset = datasets.CIFAR10(root='./data', train=True, download=True, transform=transform_train)\n",
        "\n",
        "testset = datasets.CIFAR10(root='./data', train=False, download=True, transform=transform_test)"
      ],
      "metadata": {
        "colab": {
          "base_uri": "https://localhost:8080/"
        },
        "id": "hpYR5mrD9R99",
        "outputId": "edbc60f7-097d-4018-daa3-dd21627d499e"
      },
      "execution_count": 5,
      "outputs": [
        {
          "output_type": "stream",
          "name": "stdout",
          "text": [
            "Files already downloaded and verified\n",
            "Files already downloaded and verified\n"
          ]
        }
      ]
    },
    {
      "cell_type": "code",
      "source": [
        "# number of data points in train dataset\n",
        "\n",
        "trainset"
      ],
      "metadata": {
        "colab": {
          "base_uri": "https://localhost:8080/"
        },
        "id": "UwMYna8fAYG9",
        "outputId": "0c4792e1-9fdd-44b1-b6c9-63308729cba7"
      },
      "execution_count": 6,
      "outputs": [
        {
          "output_type": "execute_result",
          "data": {
            "text/plain": [
              "Dataset CIFAR10\n",
              "    Number of datapoints: 50000\n",
              "    Root location: ./data\n",
              "    Split: Train\n",
              "    StandardTransform\n",
              "Transform: Compose(\n",
              "               RandomCrop(size=(32, 32), padding=4)\n",
              "               RandomHorizontalFlip(p=0.5)\n",
              "               ToTensor()\n",
              "               Normalize(mean=(0.4914, 0.4822, 0.4465), std=(0.247, 0.2434, 0.2615))\n",
              "           )"
            ]
          },
          "metadata": {},
          "execution_count": 6
        }
      ]
    },
    {
      "cell_type": "code",
      "source": [
        "# number of data points in test dataset\n",
        "\n",
        "testset"
      ],
      "metadata": {
        "colab": {
          "base_uri": "https://localhost:8080/"
        },
        "id": "ZoCxJBHyBCNH",
        "outputId": "a237d885-a395-47f1-c67a-4944c203f7c1"
      },
      "execution_count": 7,
      "outputs": [
        {
          "output_type": "execute_result",
          "data": {
            "text/plain": [
              "Dataset CIFAR10\n",
              "    Number of datapoints: 10000\n",
              "    Root location: ./data\n",
              "    Split: Test\n",
              "    StandardTransform\n",
              "Transform: Compose(\n",
              "               ToTensor()\n",
              "               Normalize(mean=(0.4914, 0.4822, 0.4465), std=(0.247, 0.2434, 0.2615))\n",
              "           )"
            ]
          },
          "metadata": {},
          "execution_count": 7
        }
      ]
    },
    {
      "cell_type": "code",
      "source": [
        "# creating data loaders for train and test datasets\n",
        "\n",
        "trainloader = torch.utils.data.DataLoader(trainset, batch_size=128, shuffle=True, num_workers=2)\n",
        "\n",
        "testloader = torch.utils.data.DataLoader(testset, batch_size=100, shuffle=False, num_workers=2)\n"
      ],
      "metadata": {
        "id": "fk708NCiBX7T"
      },
      "execution_count": 8,
      "outputs": []
    },
    {
      "cell_type": "code",
      "source": [
        "# The different classes in CIFAR10 dataset are\n",
        "\n",
        "trainset.classes"
      ],
      "metadata": {
        "colab": {
          "base_uri": "https://localhost:8080/"
        },
        "id": "h29ZWJm5DAuh",
        "outputId": "e7f1baa7-d0b6-4201-f351-c250624aaeb1"
      },
      "execution_count": 9,
      "outputs": [
        {
          "output_type": "execute_result",
          "data": {
            "text/plain": [
              "['airplane',\n",
              " 'automobile',\n",
              " 'bird',\n",
              " 'cat',\n",
              " 'deer',\n",
              " 'dog',\n",
              " 'frog',\n",
              " 'horse',\n",
              " 'ship',\n",
              " 'truck']"
            ]
          },
          "metadata": {},
          "execution_count": 9
        }
      ]
    },
    {
      "cell_type": "code",
      "source": [
        "save_loss = {'train':[], 'test':[]}\n",
        "save_acc = {'train':[], 'test':[]}"
      ],
      "metadata": {
        "id": "YiVbKkRujG1W"
      },
      "execution_count": 10,
      "outputs": []
    },
    {
      "cell_type": "markdown",
      "source": [
        "### ResNet18 NN Basic Block"
      ],
      "metadata": {
        "id": "EInXPW4McCbW"
      }
    },
    {
      "cell_type": "code",
      "source": [
        "class BasicBlock(nn.Module):\n",
        "    expansion = 1\n",
        "\n",
        "    def __init__(self, in_planes, planes, stride=1):\n",
        "        super(BasicBlock, self).__init__()\n",
        "        self.conv1 = nn.Conv2d(in_planes, planes, kernel_size=3, stride=stride, padding=1, bias=False)\n",
        "        self.bn1 = nn.BatchNorm2d(planes)\n",
        "        self.conv2 = nn.Conv2d(planes, planes, kernel_size=3, stride=1, padding=1, bias=False)\n",
        "        self.bn2 = nn.BatchNorm2d(planes)\n",
        "\n",
        "        self.shortcut = nn.Sequential()\n",
        "        if stride != 1 or in_planes != self.expansion*planes:\n",
        "            self.shortcut = nn.Sequential(\n",
        "                nn.Conv2d(in_planes, self.expansion*planes,\n",
        "                          kernel_size=1, stride=stride, bias=False),\n",
        "                nn.BatchNorm2d(self.expansion*planes)\n",
        "            )\n",
        "\n",
        "    def forward(self, x):\n",
        "        out = F.relu(self.bn1(self.conv1(x)))\n",
        "        out = self.bn2(self.conv2(out))\n",
        "        out += self.shortcut(x)\n",
        "        out = F.relu(out)\n",
        "        return out"
      ],
      "metadata": {
        "id": "F2qgIJrKdlBR"
      },
      "execution_count": 11,
      "outputs": []
    },
    {
      "cell_type": "markdown",
      "source": [
        "### ResNet18 Architecture"
      ],
      "metadata": {
        "id": "Q426VQXygcsk"
      }
    },
    {
      "cell_type": "code",
      "source": [
        "class ResNet18(nn.Module):\n",
        "    def __init__(self, block, num_blocks, num_classes=10):\n",
        "        super(ResNet18, self).__init__()\n",
        "        self.in_planes = 64\n",
        "\n",
        "        self.conv1 = nn.Conv2d(3, 64, kernel_size=3,\n",
        "                               stride=1, padding=1, bias=False)\n",
        "        self.bn1 = nn.BatchNorm2d(64)\n",
        "        self.layer1 = self._make_layer(block, 64, num_blocks[0], stride=1)\n",
        "        self.layer2 = self._make_layer(block, 128, num_blocks[1], stride=2)\n",
        "        self.layer3 = self._make_layer(block, 256, num_blocks[2], stride=2)\n",
        "        self.layer4 = self._make_layer(block, 512, num_blocks[3], stride=2)\n",
        "        self.linear = nn.Linear(512*block.expansion, num_classes)\n",
        "\n",
        "    def _make_layer(self, block, planes, num_blocks, stride):\n",
        "        strides = [stride] + [1]*(num_blocks-1)\n",
        "        layers = []\n",
        "        for stride in strides:\n",
        "            layers.append(block(self.in_planes, planes, stride))\n",
        "            self.in_planes = planes * block.expansion\n",
        "        return nn.Sequential(*layers)\n",
        "\n",
        "    def forward(self, x):\n",
        "        out = F.relu(self.bn1(self.conv1(x)))\n",
        "        out = self.layer1(out)\n",
        "        out = self.layer2(out)\n",
        "        out = self.layer3(out)\n",
        "        out = self.layer4(out)\n",
        "        out = F.avg_pool2d(out, 4)\n",
        "        out = out.view(out.size(0), -1)\n",
        "        out = self.linear(out)\n",
        "        return out"
      ],
      "metadata": {
        "id": "P0v523cAghUa"
      },
      "execution_count": 12,
      "outputs": []
    },
    {
      "cell_type": "markdown",
      "source": [
        "### Initialize the Model"
      ],
      "metadata": {
        "id": "OLeaBXhHjhwf"
      }
    },
    {
      "cell_type": "code",
      "source": [
        "net = ResNet18(BasicBlock, [4, 2, 2, 2])"
      ],
      "metadata": {
        "id": "J7pxIGqijjz2"
      },
      "execution_count": 13,
      "outputs": []
    },
    {
      "cell_type": "code",
      "source": [
        "net = net.to(device)\n",
        "if device == 'cuda':\n",
        "    net = torch.nn.DataParallel(net)\n",
        "    cudnn.benchmark = True\n",
        "    print(\"Device is set to CUDA\")"
      ],
      "metadata": {
        "colab": {
          "base_uri": "https://localhost:8080/"
        },
        "id": "EvhKWuXTjzEZ",
        "outputId": "cc4987b3-9d58-4874-9bb3-542b1718de6e"
      },
      "execution_count": 14,
      "outputs": [
        {
          "output_type": "stream",
          "name": "stdout",
          "text": [
            "Device is set to CUDA\n"
          ]
        }
      ]
    },
    {
      "cell_type": "code",
      "source": [
        "best_acc = 0  # best test accuracy\n",
        "start_epoch = 0 # start from epoch 0 or last checkpoint epoch"
      ],
      "metadata": {
        "id": "dtC0jvf_kQYU"
      },
      "execution_count": 15,
      "outputs": []
    },
    {
      "cell_type": "markdown",
      "source": [
        "### Define Optimizer"
      ],
      "metadata": {
        "id": "AcyhvqZfkuTh"
      }
    },
    {
      "cell_type": "code",
      "source": [
        "criterion = nn.CrossEntropyLoss()\n",
        "\n",
        "optimizer = optim.SGD(net.parameters(), lr=0.01,\n",
        "                      momentum=0.9, weight_decay=5e-4)\n",
        "\n",
        "scheduler = torch.optim.lr_scheduler.CosineAnnealingLR(optimizer, T_max=200)"
      ],
      "metadata": {
        "id": "tY8PnX79kx6f"
      },
      "execution_count": 16,
      "outputs": []
    },
    {
      "cell_type": "markdown",
      "source": [
        "### Training"
      ],
      "metadata": {
        "id": "LjZwX5IGlC6v"
      }
    },
    {
      "cell_type": "code",
      "source": [
        "def train(epoch):\n",
        "    print('\\nEpoch: %d' % epoch)\n",
        "    net.train()\n",
        "    train_loss = 0\n",
        "    correct = 0\n",
        "    total = 0\n",
        "    for batch_idx, (inputs, targets) in enumerate(trainloader):\n",
        "        inputs, targets = inputs.to(device), targets.to(device)\n",
        "        optimizer.zero_grad()\n",
        "        outputs = net(inputs)\n",
        "        loss = criterion(outputs, targets)\n",
        "        loss.backward()\n",
        "        optimizer.step()\n",
        "\n",
        "        train_loss += loss.item()\n",
        "        _, predicted = outputs.max(1)\n",
        "        total += targets.size(0)\n",
        "        correct += predicted.eq(targets).sum().item()\n",
        "\n",
        "    print('Train Loss: %.3f | Train Acc: %.3f%% (%d/%d)'% (train_loss/(batch_idx+1), 100.*correct/total, correct, total))\n",
        "    save_loss['train'].append(train_loss/(batch_idx+1))\n",
        "    save_acc['train'].append(100.*correct/total)"
      ],
      "metadata": {
        "id": "8mH6UrxulEb7"
      },
      "execution_count": 17,
      "outputs": []
    },
    {
      "cell_type": "markdown",
      "source": [
        "### Testing"
      ],
      "metadata": {
        "id": "PlaAGeTrlGZe"
      }
    },
    {
      "cell_type": "code",
      "source": [
        "def test(epoch):\n",
        "    global best_acc\n",
        "    net.eval()\n",
        "    test_loss = 0\n",
        "    correct = 0\n",
        "    total = 0\n",
        "    with torch.no_grad():\n",
        "        for batch_idx, (inputs, targets) in enumerate(testloader):\n",
        "            inputs, targets = inputs.to(device), targets.to(device)\n",
        "            outputs = net(inputs)\n",
        "            loss = criterion(outputs, targets)\n",
        "\n",
        "            test_loss += loss.item()\n",
        "            _, predicted = outputs.max(1)\n",
        "            total += targets.size(0)\n",
        "            correct += predicted.eq(targets).sum().item()\n",
        "\n",
        "        print('Test Loss: %.3f | Test Acc: %.3f%% (%d/%d)'% (test_loss/(batch_idx+1), 100.*correct/total, correct, total))\n",
        "        save_loss['test'].append(test_loss/(batch_idx+1))\n",
        "        save_acc['test'].append(100.*correct/total)\n",
        "\n",
        "    # Save checkpoint.\n",
        "    acc = 100.*correct/total\n",
        "    if acc > best_acc:\n",
        "        print('Saving..')\n",
        "        state = {\n",
        "            'net': net.state_dict(),\n",
        "            'acc': acc,\n",
        "            'epoch': epoch,\n",
        "        }\n",
        "        if not os.path.isdir('checkpoint'):\n",
        "            os.mkdir('checkpoint')\n",
        "        torch.save(state, './checkpoint/ckpt.pth')\n",
        "        best_acc = acc\n"
      ],
      "metadata": {
        "id": "yfc1pPlclHu1"
      },
      "execution_count": 18,
      "outputs": []
    },
    {
      "cell_type": "markdown",
      "source": [
        "### Train and Evaluate"
      ],
      "metadata": {
        "id": "OwmJ6hWSpuy0"
      }
    },
    {
      "cell_type": "code",
      "source": [
        "for epoch in range(start_epoch, 100):\n",
        "    train(epoch)\n",
        "    test(epoch)\n",
        "    scheduler.step()"
      ],
      "metadata": {
        "colab": {
          "base_uri": "https://localhost:8080/"
        },
        "id": "VTKUBhizpzv7",
        "outputId": "3ced2516-91ea-4544-c563-047e281d58a7"
      },
      "execution_count": 19,
      "outputs": [
        {
          "output_type": "stream",
          "name": "stdout",
          "text": [
            "\n",
            "Epoch: 0\n",
            "Train Loss: 1.462 | Train Acc: 46.252% (23126/50000)\n",
            "Test Loss: 1.173 | Test Acc: 60.210% (6021/10000)\n",
            "Saving..\n",
            "\n",
            "Epoch: 1\n",
            "Train Loss: 0.917 | Train Acc: 67.488% (33744/50000)\n",
            "Test Loss: 0.873 | Test Acc: 69.520% (6952/10000)\n",
            "Saving..\n",
            "\n",
            "Epoch: 2\n",
            "Train Loss: 0.695 | Train Acc: 75.638% (37819/50000)\n",
            "Test Loss: 0.634 | Test Acc: 78.320% (7832/10000)\n",
            "Saving..\n",
            "\n",
            "Epoch: 3\n",
            "Train Loss: 0.582 | Train Acc: 79.760% (39880/50000)\n",
            "Test Loss: 0.694 | Test Acc: 77.270% (7727/10000)\n",
            "\n",
            "Epoch: 4\n",
            "Train Loss: 0.511 | Train Acc: 82.398% (41199/50000)\n",
            "Test Loss: 0.646 | Test Acc: 79.060% (7906/10000)\n",
            "Saving..\n",
            "\n",
            "Epoch: 5\n",
            "Train Loss: 0.455 | Train Acc: 84.336% (42168/50000)\n",
            "Test Loss: 0.530 | Test Acc: 82.000% (8200/10000)\n",
            "Saving..\n",
            "\n",
            "Epoch: 6\n",
            "Train Loss: 0.411 | Train Acc: 85.776% (42888/50000)\n",
            "Test Loss: 0.543 | Test Acc: 82.260% (8226/10000)\n",
            "Saving..\n",
            "\n",
            "Epoch: 7\n",
            "Train Loss: 0.374 | Train Acc: 87.090% (43545/50000)\n",
            "Test Loss: 0.541 | Test Acc: 83.160% (8316/10000)\n",
            "Saving..\n",
            "\n",
            "Epoch: 8\n",
            "Train Loss: 0.342 | Train Acc: 88.258% (44129/50000)\n",
            "Test Loss: 0.454 | Test Acc: 85.560% (8556/10000)\n",
            "Saving..\n",
            "\n",
            "Epoch: 9\n",
            "Train Loss: 0.321 | Train Acc: 88.968% (44484/50000)\n",
            "Test Loss: 0.460 | Test Acc: 85.370% (8537/10000)\n",
            "\n",
            "Epoch: 10\n",
            "Train Loss: 0.302 | Train Acc: 89.508% (44754/50000)\n",
            "Test Loss: 0.420 | Test Acc: 86.460% (8646/10000)\n",
            "Saving..\n",
            "\n",
            "Epoch: 11\n",
            "Train Loss: 0.285 | Train Acc: 89.966% (44983/50000)\n",
            "Test Loss: 0.367 | Test Acc: 87.570% (8757/10000)\n",
            "Saving..\n",
            "\n",
            "Epoch: 12\n",
            "Train Loss: 0.257 | Train Acc: 91.074% (45537/50000)\n",
            "Test Loss: 0.412 | Test Acc: 86.600% (8660/10000)\n",
            "\n",
            "Epoch: 13\n",
            "Train Loss: 0.248 | Train Acc: 91.382% (45691/50000)\n",
            "Test Loss: 0.450 | Test Acc: 86.600% (8660/10000)\n",
            "\n",
            "Epoch: 14\n",
            "Train Loss: 0.238 | Train Acc: 91.636% (45818/50000)\n",
            "Test Loss: 0.431 | Test Acc: 85.950% (8595/10000)\n",
            "\n",
            "Epoch: 15\n",
            "Train Loss: 0.221 | Train Acc: 92.220% (46110/50000)\n",
            "Test Loss: 0.387 | Test Acc: 88.020% (8802/10000)\n",
            "Saving..\n",
            "\n",
            "Epoch: 16\n",
            "Train Loss: 0.207 | Train Acc: 92.776% (46388/50000)\n",
            "Test Loss: 0.399 | Test Acc: 87.760% (8776/10000)\n",
            "\n",
            "Epoch: 17\n",
            "Train Loss: 0.199 | Train Acc: 93.112% (46556/50000)\n",
            "Test Loss: 0.390 | Test Acc: 88.030% (8803/10000)\n",
            "Saving..\n",
            "\n",
            "Epoch: 18\n",
            "Train Loss: 0.193 | Train Acc: 93.308% (46654/50000)\n",
            "Test Loss: 0.336 | Test Acc: 89.720% (8972/10000)\n",
            "Saving..\n",
            "\n",
            "Epoch: 19\n",
            "Train Loss: 0.175 | Train Acc: 93.890% (46945/50000)\n",
            "Test Loss: 0.432 | Test Acc: 86.880% (8688/10000)\n",
            "\n",
            "Epoch: 20\n",
            "Train Loss: 0.168 | Train Acc: 94.084% (47042/50000)\n",
            "Test Loss: 0.369 | Test Acc: 88.750% (8875/10000)\n",
            "\n",
            "Epoch: 21\n",
            "Train Loss: 0.167 | Train Acc: 94.080% (47040/50000)\n",
            "Test Loss: 0.407 | Test Acc: 88.480% (8848/10000)\n",
            "\n",
            "Epoch: 22\n",
            "Train Loss: 0.155 | Train Acc: 94.414% (47207/50000)\n",
            "Test Loss: 0.442 | Test Acc: 87.270% (8727/10000)\n",
            "\n",
            "Epoch: 23\n",
            "Train Loss: 0.145 | Train Acc: 94.898% (47449/50000)\n",
            "Test Loss: 0.378 | Test Acc: 89.030% (8903/10000)\n",
            "\n",
            "Epoch: 24\n",
            "Train Loss: 0.142 | Train Acc: 95.054% (47527/50000)\n",
            "Test Loss: 0.392 | Test Acc: 88.690% (8869/10000)\n",
            "\n",
            "Epoch: 25\n",
            "Train Loss: 0.133 | Train Acc: 95.304% (47652/50000)\n",
            "Test Loss: 0.408 | Test Acc: 88.510% (8851/10000)\n",
            "\n",
            "Epoch: 26\n",
            "Train Loss: 0.128 | Train Acc: 95.472% (47736/50000)\n",
            "Test Loss: 0.322 | Test Acc: 90.150% (9015/10000)\n",
            "Saving..\n",
            "\n",
            "Epoch: 27\n",
            "Train Loss: 0.123 | Train Acc: 95.616% (47808/50000)\n",
            "Test Loss: 0.325 | Test Acc: 90.030% (9003/10000)\n",
            "\n",
            "Epoch: 28\n",
            "Train Loss: 0.116 | Train Acc: 95.924% (47962/50000)\n",
            "Test Loss: 0.349 | Test Acc: 90.030% (9003/10000)\n",
            "\n",
            "Epoch: 29\n",
            "Train Loss: 0.112 | Train Acc: 96.128% (48064/50000)\n",
            "Test Loss: 0.355 | Test Acc: 89.860% (8986/10000)\n",
            "\n",
            "Epoch: 30\n",
            "Train Loss: 0.107 | Train Acc: 96.282% (48141/50000)\n",
            "Test Loss: 0.377 | Test Acc: 88.920% (8892/10000)\n",
            "\n",
            "Epoch: 31\n",
            "Train Loss: 0.106 | Train Acc: 96.250% (48125/50000)\n",
            "Test Loss: 0.305 | Test Acc: 91.270% (9127/10000)\n",
            "Saving..\n",
            "\n",
            "Epoch: 32\n",
            "Train Loss: 0.100 | Train Acc: 96.434% (48217/50000)\n",
            "Test Loss: 0.367 | Test Acc: 89.910% (8991/10000)\n",
            "\n",
            "Epoch: 33\n",
            "Train Loss: 0.096 | Train Acc: 96.708% (48354/50000)\n",
            "Test Loss: 0.357 | Test Acc: 89.780% (8978/10000)\n",
            "\n",
            "Epoch: 34\n",
            "Train Loss: 0.094 | Train Acc: 96.682% (48341/50000)\n",
            "Test Loss: 0.352 | Test Acc: 90.240% (9024/10000)\n",
            "\n",
            "Epoch: 35\n",
            "Train Loss: 0.088 | Train Acc: 96.926% (48463/50000)\n",
            "Test Loss: 0.334 | Test Acc: 90.480% (9048/10000)\n",
            "\n",
            "Epoch: 36\n",
            "Train Loss: 0.089 | Train Acc: 96.896% (48448/50000)\n",
            "Test Loss: 0.387 | Test Acc: 89.680% (8968/10000)\n",
            "\n",
            "Epoch: 37\n",
            "Train Loss: 0.081 | Train Acc: 97.194% (48597/50000)\n",
            "Test Loss: 0.357 | Test Acc: 90.260% (9026/10000)\n",
            "\n",
            "Epoch: 38\n",
            "Train Loss: 0.080 | Train Acc: 97.202% (48601/50000)\n",
            "Test Loss: 0.506 | Test Acc: 86.940% (8694/10000)\n",
            "\n",
            "Epoch: 39\n",
            "Train Loss: 0.078 | Train Acc: 97.308% (48654/50000)\n",
            "Test Loss: 0.288 | Test Acc: 91.630% (9163/10000)\n",
            "Saving..\n",
            "\n",
            "Epoch: 40\n",
            "Train Loss: 0.079 | Train Acc: 97.282% (48641/50000)\n",
            "Test Loss: 0.324 | Test Acc: 90.950% (9095/10000)\n",
            "\n",
            "Epoch: 41\n",
            "Train Loss: 0.076 | Train Acc: 97.364% (48682/50000)\n",
            "Test Loss: 0.323 | Test Acc: 91.090% (9109/10000)\n",
            "\n",
            "Epoch: 42\n",
            "Train Loss: 0.070 | Train Acc: 97.566% (48783/50000)\n",
            "Test Loss: 0.434 | Test Acc: 88.700% (8870/10000)\n",
            "\n",
            "Epoch: 43\n",
            "Train Loss: 0.065 | Train Acc: 97.828% (48914/50000)\n",
            "Test Loss: 0.322 | Test Acc: 91.120% (9112/10000)\n",
            "\n",
            "Epoch: 44\n",
            "Train Loss: 0.061 | Train Acc: 97.902% (48951/50000)\n",
            "Test Loss: 0.351 | Test Acc: 90.610% (9061/10000)\n",
            "\n",
            "Epoch: 45\n",
            "Train Loss: 0.064 | Train Acc: 97.868% (48934/50000)\n",
            "Test Loss: 0.313 | Test Acc: 91.230% (9123/10000)\n",
            "\n",
            "Epoch: 46\n",
            "Train Loss: 0.066 | Train Acc: 97.644% (48822/50000)\n",
            "Test Loss: 0.325 | Test Acc: 90.840% (9084/10000)\n",
            "\n",
            "Epoch: 47\n",
            "Train Loss: 0.058 | Train Acc: 98.044% (49022/50000)\n",
            "Test Loss: 0.324 | Test Acc: 91.530% (9153/10000)\n",
            "\n",
            "Epoch: 48\n",
            "Train Loss: 0.055 | Train Acc: 98.116% (49058/50000)\n",
            "Test Loss: 0.365 | Test Acc: 90.380% (9038/10000)\n",
            "\n",
            "Epoch: 49\n",
            "Train Loss: 0.051 | Train Acc: 98.284% (49142/50000)\n",
            "Test Loss: 0.342 | Test Acc: 91.160% (9116/10000)\n",
            "\n",
            "Epoch: 50\n",
            "Train Loss: 0.054 | Train Acc: 98.140% (49070/50000)\n",
            "Test Loss: 0.341 | Test Acc: 91.140% (9114/10000)\n",
            "\n",
            "Epoch: 51\n",
            "Train Loss: 0.055 | Train Acc: 98.092% (49046/50000)\n",
            "Test Loss: 0.356 | Test Acc: 90.990% (9099/10000)\n",
            "\n",
            "Epoch: 52\n",
            "Train Loss: 0.051 | Train Acc: 98.230% (49115/50000)\n",
            "Test Loss: 0.306 | Test Acc: 91.790% (9179/10000)\n",
            "Saving..\n",
            "\n",
            "Epoch: 53\n",
            "Train Loss: 0.052 | Train Acc: 98.256% (49128/50000)\n",
            "Test Loss: 0.359 | Test Acc: 90.830% (9083/10000)\n",
            "\n",
            "Epoch: 54\n",
            "Train Loss: 0.048 | Train Acc: 98.378% (49189/50000)\n",
            "Test Loss: 0.339 | Test Acc: 91.250% (9125/10000)\n",
            "\n",
            "Epoch: 55\n",
            "Train Loss: 0.047 | Train Acc: 98.424% (49212/50000)\n",
            "Test Loss: 0.318 | Test Acc: 91.520% (9152/10000)\n",
            "\n",
            "Epoch: 56\n",
            "Train Loss: 0.046 | Train Acc: 98.466% (49233/50000)\n",
            "Test Loss: 0.320 | Test Acc: 91.530% (9153/10000)\n",
            "\n",
            "Epoch: 57\n",
            "Train Loss: 0.045 | Train Acc: 98.462% (49231/50000)\n",
            "Test Loss: 0.355 | Test Acc: 90.670% (9067/10000)\n",
            "\n",
            "Epoch: 58\n",
            "Train Loss: 0.044 | Train Acc: 98.498% (49249/50000)\n",
            "Test Loss: 0.309 | Test Acc: 91.730% (9173/10000)\n",
            "\n",
            "Epoch: 59\n",
            "Train Loss: 0.042 | Train Acc: 98.536% (49268/50000)\n",
            "Test Loss: 0.353 | Test Acc: 90.840% (9084/10000)\n",
            "\n",
            "Epoch: 60\n",
            "Train Loss: 0.044 | Train Acc: 98.512% (49256/50000)\n",
            "Test Loss: 0.327 | Test Acc: 91.310% (9131/10000)\n",
            "\n",
            "Epoch: 61\n",
            "Train Loss: 0.039 | Train Acc: 98.710% (49355/50000)\n",
            "Test Loss: 0.338 | Test Acc: 91.500% (9150/10000)\n",
            "\n",
            "Epoch: 62\n",
            "Train Loss: 0.043 | Train Acc: 98.574% (49287/50000)\n",
            "Test Loss: 0.317 | Test Acc: 91.590% (9159/10000)\n",
            "\n",
            "Epoch: 63\n",
            "Train Loss: 0.039 | Train Acc: 98.704% (49352/50000)\n",
            "Test Loss: 0.346 | Test Acc: 91.010% (9101/10000)\n",
            "\n",
            "Epoch: 64\n",
            "Train Loss: 0.037 | Train Acc: 98.764% (49382/50000)\n",
            "Test Loss: 0.306 | Test Acc: 91.920% (9192/10000)\n",
            "Saving..\n",
            "\n",
            "Epoch: 65\n",
            "Train Loss: 0.032 | Train Acc: 98.966% (49483/50000)\n",
            "Test Loss: 0.337 | Test Acc: 91.570% (9157/10000)\n",
            "\n",
            "Epoch: 66\n",
            "Train Loss: 0.036 | Train Acc: 98.828% (49414/50000)\n",
            "Test Loss: 0.357 | Test Acc: 91.190% (9119/10000)\n",
            "\n",
            "Epoch: 67\n",
            "Train Loss: 0.038 | Train Acc: 98.780% (49390/50000)\n",
            "Test Loss: 0.311 | Test Acc: 91.680% (9168/10000)\n",
            "\n",
            "Epoch: 68\n",
            "Train Loss: 0.037 | Train Acc: 98.744% (49372/50000)\n",
            "Test Loss: 0.297 | Test Acc: 92.310% (9231/10000)\n",
            "Saving..\n",
            "\n",
            "Epoch: 69\n",
            "Train Loss: 0.035 | Train Acc: 98.892% (49446/50000)\n",
            "Test Loss: 0.294 | Test Acc: 92.040% (9204/10000)\n",
            "\n",
            "Epoch: 70\n",
            "Train Loss: 0.034 | Train Acc: 98.968% (49484/50000)\n",
            "Test Loss: 0.305 | Test Acc: 92.090% (9209/10000)\n",
            "\n",
            "Epoch: 71\n",
            "Train Loss: 0.030 | Train Acc: 99.074% (49537/50000)\n",
            "Test Loss: 0.307 | Test Acc: 92.030% (9203/10000)\n",
            "\n",
            "Epoch: 72\n",
            "Train Loss: 0.034 | Train Acc: 98.936% (49468/50000)\n",
            "Test Loss: 0.325 | Test Acc: 91.560% (9156/10000)\n",
            "\n",
            "Epoch: 73\n",
            "Train Loss: 0.032 | Train Acc: 98.984% (49492/50000)\n",
            "Test Loss: 0.303 | Test Acc: 92.140% (9214/10000)\n",
            "\n",
            "Epoch: 74\n",
            "Train Loss: 0.033 | Train Acc: 98.936% (49468/50000)\n",
            "Test Loss: 0.328 | Test Acc: 91.820% (9182/10000)\n",
            "\n",
            "Epoch: 75\n",
            "Train Loss: 0.031 | Train Acc: 99.020% (49510/50000)\n",
            "Test Loss: 0.302 | Test Acc: 92.550% (9255/10000)\n",
            "Saving..\n",
            "\n",
            "Epoch: 76\n",
            "Train Loss: 0.028 | Train Acc: 99.144% (49572/50000)\n",
            "Test Loss: 0.312 | Test Acc: 91.960% (9196/10000)\n",
            "\n",
            "Epoch: 77\n",
            "Train Loss: 0.030 | Train Acc: 99.036% (49518/50000)\n",
            "Test Loss: 0.305 | Test Acc: 91.960% (9196/10000)\n",
            "\n",
            "Epoch: 78\n",
            "Train Loss: 0.027 | Train Acc: 99.138% (49569/50000)\n",
            "Test Loss: 0.307 | Test Acc: 92.020% (9202/10000)\n",
            "\n",
            "Epoch: 79\n",
            "Train Loss: 0.021 | Train Acc: 99.366% (49683/50000)\n",
            "Test Loss: 0.297 | Test Acc: 92.280% (9228/10000)\n",
            "\n",
            "Epoch: 80\n",
            "Train Loss: 0.027 | Train Acc: 99.128% (49564/50000)\n",
            "Test Loss: 0.323 | Test Acc: 91.880% (9188/10000)\n",
            "\n",
            "Epoch: 81\n",
            "Train Loss: 0.030 | Train Acc: 99.008% (49504/50000)\n",
            "Test Loss: 0.286 | Test Acc: 92.640% (9264/10000)\n",
            "Saving..\n",
            "\n",
            "Epoch: 82\n",
            "Train Loss: 0.026 | Train Acc: 99.212% (49606/50000)\n",
            "Test Loss: 0.312 | Test Acc: 92.130% (9213/10000)\n",
            "\n",
            "Epoch: 83\n",
            "Train Loss: 0.029 | Train Acc: 99.068% (49534/50000)\n",
            "Test Loss: 0.289 | Test Acc: 92.330% (9233/10000)\n",
            "\n",
            "Epoch: 84\n",
            "Train Loss: 0.026 | Train Acc: 99.176% (49588/50000)\n",
            "Test Loss: 0.301 | Test Acc: 92.250% (9225/10000)\n",
            "\n",
            "Epoch: 85\n",
            "Train Loss: 0.026 | Train Acc: 99.172% (49586/50000)\n",
            "Test Loss: 0.296 | Test Acc: 92.380% (9238/10000)\n",
            "\n",
            "Epoch: 86\n",
            "Train Loss: 0.020 | Train Acc: 99.366% (49683/50000)\n",
            "Test Loss: 0.308 | Test Acc: 92.280% (9228/10000)\n",
            "\n",
            "Epoch: 87\n",
            "Train Loss: 0.023 | Train Acc: 99.280% (49640/50000)\n",
            "Test Loss: 0.318 | Test Acc: 91.800% (9180/10000)\n",
            "\n",
            "Epoch: 88\n",
            "Train Loss: 0.021 | Train Acc: 99.340% (49670/50000)\n",
            "Test Loss: 0.294 | Test Acc: 92.570% (9257/10000)\n",
            "\n",
            "Epoch: 89\n",
            "Train Loss: 0.021 | Train Acc: 99.338% (49669/50000)\n",
            "Test Loss: 0.308 | Test Acc: 92.340% (9234/10000)\n",
            "\n",
            "Epoch: 90\n",
            "Train Loss: 0.022 | Train Acc: 99.330% (49665/50000)\n",
            "Test Loss: 0.302 | Test Acc: 92.330% (9233/10000)\n",
            "\n",
            "Epoch: 91\n",
            "Train Loss: 0.020 | Train Acc: 99.394% (49697/50000)\n",
            "Test Loss: 0.331 | Test Acc: 91.910% (9191/10000)\n",
            "\n",
            "Epoch: 92\n",
            "Train Loss: 0.018 | Train Acc: 99.454% (49727/50000)\n",
            "Test Loss: 0.290 | Test Acc: 92.600% (9260/10000)\n",
            "\n",
            "Epoch: 93\n",
            "Train Loss: 0.023 | Train Acc: 99.280% (49640/50000)\n",
            "Test Loss: 0.303 | Test Acc: 92.080% (9208/10000)\n",
            "\n",
            "Epoch: 94\n",
            "Train Loss: 0.017 | Train Acc: 99.482% (49741/50000)\n",
            "Test Loss: 0.273 | Test Acc: 92.830% (9283/10000)\n",
            "Saving..\n",
            "\n",
            "Epoch: 95\n",
            "Train Loss: 0.018 | Train Acc: 99.420% (49710/50000)\n",
            "Test Loss: 0.288 | Test Acc: 92.600% (9260/10000)\n",
            "\n",
            "Epoch: 96\n",
            "Train Loss: 0.018 | Train Acc: 99.466% (49733/50000)\n",
            "Test Loss: 0.269 | Test Acc: 92.960% (9296/10000)\n",
            "Saving..\n",
            "\n",
            "Epoch: 97\n",
            "Train Loss: 0.016 | Train Acc: 99.536% (49768/50000)\n",
            "Test Loss: 0.297 | Test Acc: 92.640% (9264/10000)\n",
            "\n",
            "Epoch: 98\n",
            "Train Loss: 0.016 | Train Acc: 99.496% (49748/50000)\n",
            "Test Loss: 0.295 | Test Acc: 92.620% (9262/10000)\n",
            "\n",
            "Epoch: 99\n",
            "Train Loss: 0.016 | Train Acc: 99.528% (49764/50000)\n",
            "Test Loss: 0.294 | Test Acc: 92.980% (9298/10000)\n",
            "Saving..\n"
          ]
        }
      ]
    },
    {
      "cell_type": "code",
      "source": [
        "plt.plot(range(1,101), save_acc['train'])\n",
        "plt.xlabel(\"epoch\")\n",
        "plt.ylabel(\"train accuracy\")\n",
        "plt.title(\"Train Accuracy vs Epoch\")"
      ],
      "metadata": {
        "id": "ijwF2Koij2y9",
        "colab": {
          "base_uri": "https://localhost:8080/",
          "height": 489
        },
        "outputId": "165b3ae2-1e55-43e5-ceee-2a6c54e6d593"
      },
      "execution_count": 20,
      "outputs": [
        {
          "output_type": "execute_result",
          "data": {
            "text/plain": [
              "Text(0.5, 1.0, 'Train Accuracy vs Epoch')"
            ]
          },
          "metadata": {},
          "execution_count": 20
        },
        {
          "output_type": "display_data",
          "data": {
            "text/plain": [
              "<Figure size 640x480 with 1 Axes>"
            ],
            "image/png": "[encoded data removed]"
          },
          "metadata": {}
        }
      ]
    },
    {
      "cell_type": "code",
      "source": [
        "plt.plot(range(1,101), save_acc['test'])\n",
        "plt.xlabel(\"epochs\")\n",
        "plt.ylabel(\"test accuracy\")\n",
        "plt.title(\"Test Accuracy vs Epoch\")"
      ],
      "metadata": {
        "id": "19ikIlu6ps-o",
        "colab": {
          "base_uri": "https://localhost:8080/",
          "height": 489
        },
        "outputId": "e72b6481-a3c8-4f28-ba69-6f05d12704a7"
      },
      "execution_count": 21,
      "outputs": [
        {
          "output_type": "execute_result",
          "data": {
            "text/plain": [
              "Text(0.5, 1.0, 'Test Accuracy vs Epoch')"
            ]
          },
          "metadata": {},
          "execution_count": 21
        },
        {
          "output_type": "display_data",
          "data": {
            "text/plain": [
              "<Figure size 640x480 with 1 Axes>"
            ],
            "image/png": "[encoded data removed]"
          },
          "metadata": {}
        }
      ]
    },
    {
      "cell_type": "code",
      "source": [
        "plt.plot(range(1,101), save_loss['train'])\n",
        "plt.xlabel(\"epoch\")\n",
        "plt.ylabel(\"train loss\")\n",
        "plt.title(\"Train Loss vs Epoch\")"
      ],
      "metadata": {
        "id": "F_Sez2pqkZ-B",
        "colab": {
          "base_uri": "https://localhost:8080/",
          "height": 489
        },
        "outputId": "2da89de4-28f7-471f-d0c4-9cc460e5d1d3"
      },
      "execution_count": 22,
      "outputs": [
        {
          "output_type": "execute_result",
          "data": {
            "text/plain": [
              "Text(0.5, 1.0, 'Train Loss vs Epoch')"
            ]
          },
          "metadata": {},
          "execution_count": 22
        },
        {
          "output_type": "display_data",
          "data": {
            "text/plain": [
              "<Figure size 640x480 with 1 Axes>"
            ],
            "image/png": "[encoded data removed]"
          },
          "metadata": {}
        }
      ]
    },
    {
      "cell_type": "code",
      "source": [
        "plt.plot(range(1,101), save_loss['test'])\n",
        "plt.xlabel(\"epoch\")\n",
        "plt.ylabel(\"test loss\")\n",
        "plt.title(\"Test Loss vs Epoch\")"
      ],
      "metadata": {
        "id": "qWJRLAkiqm1w",
        "colab": {
          "base_uri": "https://localhost:8080/",
          "height": 489
        },
        "outputId": "12f5a012-14fa-4309-87b9-e572494f8202"
      },
      "execution_count": 23,
      "outputs": [
        {
          "output_type": "execute_result",
          "data": {
            "text/plain": [
              "Text(0.5, 1.0, 'Test Loss vs Epoch')"
            ]
          },
          "metadata": {},
          "execution_count": 23
        },
        {
          "output_type": "display_data",
          "data": {
            "text/plain": [
              "<Figure size 640x480 with 1 Axes>"
            ],
            "image/png": "[encoded data removed]"
          },
          "metadata": {}
        }
      ]
    }
  ]
}