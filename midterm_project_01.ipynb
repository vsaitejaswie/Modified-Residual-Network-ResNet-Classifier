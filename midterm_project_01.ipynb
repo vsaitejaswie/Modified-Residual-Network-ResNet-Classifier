{
  "nbformat": 4,
  "nbformat_minor": 0,
  "metadata": {
    "colab": {
      "provenance": []
    },
    "kernelspec": {
      "name": "python3",
      "display_name": "Python 3"
    },
    "language_info": {
      "name": "python"
    },
    "accelerator": "GPU",
    "gpuClass": "standard"
  },
  "cells": [
    {
      "cell_type": "markdown",
      "source": [
        "### Import Modules"
      ],
      "metadata": {
        "id": "6YqZd3YT8EKp"
      }
    },
    {
      "cell_type": "code",
      "execution_count": null,
      "metadata": {
        "id": "ufMRWg9Ys-L_"
      },
      "outputs": [],
      "source": [
        "import torch\n",
        "import torch.nn as nn\n",
        "import torch.optim as optim\n",
        "from torchvision import datasets, models, transforms\n",
        "import matplotlib.pyplot as plt\n",
        "import torch.nn.functional as F\n",
        "import torch.backends.cudnn as cudnn\n",
        "import os\n",
        "import sys\n",
        "import time"
      ]
    },
    {
      "cell_type": "markdown",
      "source": [
        "### Hardware Accelerator Check"
      ],
      "metadata": {
        "id": "LvrCwMES74W4"
      }
    },
    {
      "cell_type": "code",
      "source": [
        "torch.cuda.is_available()"
      ],
      "metadata": {
        "colab": {
          "base_uri": "https://localhost:8080/"
        },
        "id": "mjUFclRx78qk",
        "outputId": "5f816c5c-8c30-4a85-c839-d15b3f3fbe2a"
      },
      "execution_count": null,
      "outputs": [
        {
          "output_type": "execute_result",
          "data": {
            "text/plain": [
              "True"
            ]
          },
          "metadata": {},
          "execution_count": 2
        }
      ]
    },
    {
      "cell_type": "code",
      "source": [
        "device = 'cuda' if torch.cuda.is_available() else 'cpu'"
      ],
      "metadata": {
        "id": "Pg-WAkTVzo2Q"
      },
      "execution_count": null,
      "outputs": []
    },
    {
      "cell_type": "markdown",
      "source": [
        "### Data Preparation"
      ],
      "metadata": {
        "id": "ACZiV7w89N0l"
      }
    },
    {
      "cell_type": "code",
      "source": [
        "# defining data transforms for train and test datasets\n",
        "\n",
        "transform_train = transforms.Compose([\n",
        "    transforms.RandomCrop(32, padding=4),\n",
        "    transforms.RandomHorizontalFlip(),\n",
        "    transforms.ToTensor(),\n",
        "    transforms.Normalize((0.4914, 0.4822, 0.4465), (0.2470, 0.2434, 0.2615)),\n",
        "])\n",
        "\n",
        "transform_test = transforms.Compose([\n",
        "    transforms.ToTensor(),\n",
        "    transforms.Normalize((0.4914, 0.4822, 0.4465), (0.2470, 0.2434, 0.2615)),\n",
        "])\n"
      ],
      "metadata": {
        "id": "Xv5JdFPh-iSs"
      },
      "execution_count": null,
      "outputs": []
    },
    {
      "cell_type": "code",
      "source": [
        "# importing CIFAR10 train and test datasets\n",
        "\n",
        "trainset = datasets.CIFAR10(root='./data', train=True, download=True, transform=transform_train)\n",
        "\n",
        "testset = datasets.CIFAR10(root='./data', train=False, download=True, transform=transform_test)"
      ],
      "metadata": {
        "colab": {
          "base_uri": "https://localhost:8080/"
        },
        "id": "hpYR5mrD9R99",
        "outputId": "2ec4e238-db56-48e1-dcf9-fd7ad5610bbe"
      },
      "execution_count": null,
      "outputs": [
        {
          "output_type": "stream",
          "name": "stdout",
          "text": [
            "Files already downloaded and verified\n",
            "Files already downloaded and verified\n"
          ]
        }
      ]
    },
    {
      "cell_type": "code",
      "source": [
        "# number of data points in train dataset\n",
        "\n",
        "trainset"
      ],
      "metadata": {
        "colab": {
          "base_uri": "https://localhost:8080/"
        },
        "id": "UwMYna8fAYG9",
        "outputId": "5e044fde-ec2c-40c6-80b1-f9d4a545b4d0"
      },
      "execution_count": null,
      "outputs": [
        {
          "output_type": "execute_result",
          "data": {
            "text/plain": [
              "Dataset CIFAR10\n",
              "    Number of datapoints: 50000\n",
              "    Root location: ./data\n",
              "    Split: Train\n",
              "    StandardTransform\n",
              "Transform: Compose(\n",
              "               RandomCrop(size=(32, 32), padding=4)\n",
              "               RandomHorizontalFlip(p=0.5)\n",
              "               ToTensor()\n",
              "               Normalize(mean=(0.4914, 0.4822, 0.4465), std=(0.247, 0.2434, 0.2615))\n",
              "           )"
            ]
          },
          "metadata": {},
          "execution_count": 6
        }
      ]
    },
    {
      "cell_type": "code",
      "source": [
        "# number of data points in test dataset\n",
        "\n",
        "testset"
      ],
      "metadata": {
        "colab": {
          "base_uri": "https://localhost:8080/"
        },
        "id": "ZoCxJBHyBCNH",
        "outputId": "f10ccc99-9554-4699-b73a-f9d4c8955f21"
      },
      "execution_count": null,
      "outputs": [
        {
          "output_type": "execute_result",
          "data": {
            "text/plain": [
              "Dataset CIFAR10\n",
              "    Number of datapoints: 10000\n",
              "    Root location: ./data\n",
              "    Split: Test\n",
              "    StandardTransform\n",
              "Transform: Compose(\n",
              "               ToTensor()\n",
              "               Normalize(mean=(0.4914, 0.4822, 0.4465), std=(0.247, 0.2434, 0.2615))\n",
              "           )"
            ]
          },
          "metadata": {},
          "execution_count": 7
        }
      ]
    },
    {
      "cell_type": "code",
      "source": [
        "# creating data loaders for train and test datasets\n",
        "\n",
        "trainloader = torch.utils.data.DataLoader(trainset, batch_size=128, shuffle=True, num_workers=2)\n",
        "\n",
        "testloader = torch.utils.data.DataLoader(testset, batch_size=100, shuffle=False, num_workers=2)\n"
      ],
      "metadata": {
        "id": "fk708NCiBX7T"
      },
      "execution_count": null,
      "outputs": []
    },
    {
      "cell_type": "code",
      "source": [
        "# The different classes in CIFAR10 dataset are\n",
        "\n",
        "trainset.classes"
      ],
      "metadata": {
        "colab": {
          "base_uri": "https://localhost:8080/"
        },
        "id": "h29ZWJm5DAuh",
        "outputId": "fad37ce8-5c8f-49cf-92c7-037a933b41ba"
      },
      "execution_count": null,
      "outputs": [
        {
          "output_type": "execute_result",
          "data": {
            "text/plain": [
              "['airplane',\n",
              " 'automobile',\n",
              " 'bird',\n",
              " 'cat',\n",
              " 'deer',\n",
              " 'dog',\n",
              " 'frog',\n",
              " 'horse',\n",
              " 'ship',\n",
              " 'truck']"
            ]
          },
          "metadata": {},
          "execution_count": 9
        }
      ]
    },
    {
      "cell_type": "code",
      "source": [
        "save_loss = {'train':[], 'test':[]}\n",
        "save_acc = {'train':[], 'test':[]}"
      ],
      "metadata": {
        "id": "YiVbKkRujG1W"
      },
      "execution_count": null,
      "outputs": []
    },
    {
      "cell_type": "markdown",
      "source": [
        "### ResNet18 NN Basic Block"
      ],
      "metadata": {
        "id": "EInXPW4McCbW"
      }
    },
    {
      "cell_type": "code",
      "source": [
        "class BasicBlock(nn.Module):\n",
        "    expansion = 1\n",
        "\n",
        "    def __init__(self, in_planes, planes, stride=1):\n",
        "        super(BasicBlock, self).__init__()\n",
        "        self.conv1 = nn.Conv2d(in_planes, planes, kernel_size=3, stride=stride, padding=1, bias=False)\n",
        "        self.bn1 = nn.BatchNorm2d(planes)\n",
        "        self.conv2 = nn.Conv2d(planes, planes, kernel_size=3, stride=1, padding=1, bias=False)\n",
        "        self.bn2 = nn.BatchNorm2d(planes)\n",
        "\n",
        "        self.shortcut = nn.Sequential()\n",
        "        if stride != 1 or in_planes != self.expansion*planes:\n",
        "            self.shortcut = nn.Sequential(\n",
        "                nn.Conv2d(in_planes, self.expansion*planes,\n",
        "                          kernel_size=1, stride=stride, bias=False),\n",
        "                nn.BatchNorm2d(self.expansion*planes)\n",
        "            )\n",
        "\n",
        "    def forward(self, x):\n",
        "        out = F.relu(self.bn1(self.conv1(x)))\n",
        "        out = self.bn2(self.conv2(out))\n",
        "        out += self.shortcut(x)\n",
        "        out = F.relu(out)\n",
        "        return out"
      ],
      "metadata": {
        "id": "F2qgIJrKdlBR"
      },
      "execution_count": null,
      "outputs": []
    },
    {
      "cell_type": "markdown",
      "source": [
        "### ResNet18 Architecture"
      ],
      "metadata": {
        "id": "Q426VQXygcsk"
      }
    },
    {
      "cell_type": "code",
      "source": [
        "class ResNet18(nn.Module):\n",
        "    def __init__(self, block, num_blocks, num_classes=10):\n",
        "        super(ResNet18, self).__init__()\n",
        "        self.in_planes = 64\n",
        "\n",
        "        self.conv1 = nn.Conv2d(3, 64, kernel_size=3,\n",
        "                               stride=1, padding=1, bias=False)\n",
        "        self.bn1 = nn.BatchNorm2d(64)\n",
        "        self.layer1 = self._make_layer(block, 64, num_blocks[0], stride=1)\n",
        "        self.layer2 = self._make_layer(block, 128, num_blocks[1], stride=2)\n",
        "        self.layer3 = self._make_layer(block, 256, num_blocks[2], stride=2)\n",
        "        self.layer4 = self._make_layer(block, 512, num_blocks[3], stride=2)\n",
        "        self.linear = nn.Linear(512*block.expansion, num_classes)\n",
        "\n",
        "    def _make_layer(self, block, planes, num_blocks, stride):\n",
        "        strides = [stride] + [1]*(num_blocks-1)\n",
        "        layers = []\n",
        "        for stride in strides:\n",
        "            layers.append(block(self.in_planes, planes, stride))\n",
        "            self.in_planes = planes * block.expansion\n",
        "        return nn.Sequential(*layers)\n",
        "\n",
        "    def forward(self, x):\n",
        "        out = F.relu(self.bn1(self.conv1(x)))\n",
        "        out = self.layer1(out)\n",
        "        out = self.layer2(out)\n",
        "        out = self.layer3(out)\n",
        "        out = self.layer4(out)\n",
        "        out = F.avg_pool2d(out, 4)\n",
        "        out = out.view(out.size(0), -1)\n",
        "        out = self.linear(out)\n",
        "        return out"
      ],
      "metadata": {
        "id": "P0v523cAghUa"
      },
      "execution_count": null,
      "outputs": []
    },
    {
      "cell_type": "markdown",
      "source": [
        "### Initialize the Model"
      ],
      "metadata": {
        "id": "OLeaBXhHjhwf"
      }
    },
    {
      "cell_type": "code",
      "source": [
        "net = ResNet18(BasicBlock, [2, 2, 2, 2])"
      ],
      "metadata": {
        "id": "J7pxIGqijjz2"
      },
      "execution_count": null,
      "outputs": []
    },
    {
      "cell_type": "code",
      "source": [
        "net = net.to(device)\n",
        "if device == 'cuda':\n",
        "    net = torch.nn.DataParallel(net)\n",
        "    cudnn.benchmark = True\n",
        "    print(\"Device is set to CUDA\")"
      ],
      "metadata": {
        "colab": {
          "base_uri": "https://localhost:8080/"
        },
        "id": "EvhKWuXTjzEZ",
        "outputId": "6203e945-dab5-4795-8302-33549f1dbbf3"
      },
      "execution_count": null,
      "outputs": [
        {
          "output_type": "stream",
          "name": "stdout",
          "text": [
            "Device is set to CUDA\n"
          ]
        }
      ]
    },
    {
      "cell_type": "code",
      "source": [
        "best_acc = 0  # best test accuracy\n",
        "start_epoch = 0 # start from epoch 0 or last checkpoint epoch"
      ],
      "metadata": {
        "id": "dtC0jvf_kQYU"
      },
      "execution_count": null,
      "outputs": []
    },
    {
      "cell_type": "markdown",
      "source": [
        "### Define Optimizer"
      ],
      "metadata": {
        "id": "AcyhvqZfkuTh"
      }
    },
    {
      "cell_type": "code",
      "source": [
        "criterion = nn.CrossEntropyLoss()\n",
        "\n",
        "optimizer = optim.SGD(net.parameters(), lr=0.1,\n",
        "                      momentum=0.9, weight_decay=5e-4)\n",
        "\n",
        "scheduler = torch.optim.lr_scheduler.CosineAnnealingLR(optimizer, T_max=200)"
      ],
      "metadata": {
        "id": "tY8PnX79kx6f"
      },
      "execution_count": null,
      "outputs": []
    },
    {
      "cell_type": "markdown",
      "source": [
        "### Training"
      ],
      "metadata": {
        "id": "LjZwX5IGlC6v"
      }
    },
    {
      "cell_type": "code",
      "source": [
        "def train(epoch):\n",
        "    print('\\nEpoch: %d' % epoch)\n",
        "    net.train()\n",
        "    train_loss = 0\n",
        "    correct = 0\n",
        "    total = 0\n",
        "    for batch_idx, (inputs, targets) in enumerate(trainloader):\n",
        "        inputs, targets = inputs.to(device), targets.to(device)\n",
        "        optimizer.zero_grad()\n",
        "        outputs = net(inputs)\n",
        "        loss = criterion(outputs, targets)\n",
        "        loss.backward()\n",
        "        optimizer.step()\n",
        "\n",
        "        train_loss += loss.item()\n",
        "        _, predicted = outputs.max(1)\n",
        "        total += targets.size(0)\n",
        "        correct += predicted.eq(targets).sum().item()\n",
        "\n",
        "    print('Train Loss: %.3f | Train Acc: %.3f%% (%d/%d)'% (train_loss/(batch_idx+1), 100.*correct/total, correct, total))\n",
        "    save_loss['train'].append(train_loss/(batch_idx+1))\n",
        "    save_acc['train'].append(100.*correct/total)"
      ],
      "metadata": {
        "id": "8mH6UrxulEb7"
      },
      "execution_count": null,
      "outputs": []
    },
    {
      "cell_type": "markdown",
      "source": [
        "### Testing"
      ],
      "metadata": {
        "id": "PlaAGeTrlGZe"
      }
    },
    {
      "cell_type": "code",
      "source": [
        "def test(epoch):\n",
        "    global best_acc\n",
        "    net.eval()\n",
        "    test_loss = 0\n",
        "    correct = 0\n",
        "    total = 0\n",
        "    with torch.no_grad():\n",
        "        for batch_idx, (inputs, targets) in enumerate(testloader):\n",
        "            inputs, targets = inputs.to(device), targets.to(device)\n",
        "            outputs = net(inputs)\n",
        "            loss = criterion(outputs, targets)\n",
        "\n",
        "            test_loss += loss.item()\n",
        "            _, predicted = outputs.max(1)\n",
        "            total += targets.size(0)\n",
        "            correct += predicted.eq(targets).sum().item()\n",
        "\n",
        "        print('Test Loss: %.3f | Test Acc: %.3f%% (%d/%d)'% (test_loss/(batch_idx+1), 100.*correct/total, correct, total))\n",
        "        save_loss['test'].append(test_loss/(batch_idx+1))\n",
        "        save_acc['test'].append(100.*correct/total)\n",
        "\n",
        "    # Save checkpoint.\n",
        "    acc = 100.*correct/total\n",
        "    if acc > best_acc:\n",
        "        print('Saving..')\n",
        "        state = {\n",
        "            'net': net.state_dict(),\n",
        "            'acc': acc,\n",
        "            'epoch': epoch,\n",
        "        }\n",
        "        if not os.path.isdir('checkpoint'):\n",
        "            os.mkdir('checkpoint')\n",
        "        torch.save(state, './checkpoint/ckpt.pth')\n",
        "        best_acc = acc\n"
      ],
      "metadata": {
        "id": "yfc1pPlclHu1"
      },
      "execution_count": null,
      "outputs": []
    },
    {
      "cell_type": "markdown",
      "source": [
        "### Train and Evaluate"
      ],
      "metadata": {
        "id": "OwmJ6hWSpuy0"
      }
    },
    {
      "cell_type": "code",
      "source": [
        "for epoch in range(start_epoch, 135):\n",
        "    train(epoch)\n",
        "    test(epoch)\n",
        "    scheduler.step()"
      ],
      "metadata": {
        "colab": {
          "base_uri": "https://localhost:8080/"
        },
        "id": "VTKUBhizpzv7",
        "outputId": "798dfe5b-8b06-4f96-9ab9-1b4b417f45a0"
      },
      "execution_count": 19,
      "outputs": [
        {
          "output_type": "stream",
          "name": "stdout",
          "text": [
            "\n",
            "Epoch: 0\n",
            "Train Loss: 1.949 | Train Acc: 31.116% (15558/50000)\n",
            "Test Loss: 1.676 | Test Acc: 40.040% (4004/10000)\n",
            "Saving..\n",
            "\n",
            "Epoch: 1\n",
            "Train Loss: 1.431 | Train Acc: 47.324% (23662/50000)\n",
            "Test Loss: 1.338 | Test Acc: 50.580% (5058/10000)\n",
            "Saving..\n",
            "\n",
            "Epoch: 2\n",
            "Train Loss: 1.160 | Train Acc: 58.190% (29095/50000)\n",
            "Test Loss: 1.183 | Test Acc: 59.040% (5904/10000)\n",
            "Saving..\n",
            "\n",
            "Epoch: 3\n",
            "Train Loss: 0.931 | Train Acc: 66.982% (33491/50000)\n",
            "Test Loss: 1.083 | Test Acc: 63.290% (6329/10000)\n",
            "Saving..\n",
            "\n",
            "Epoch: 4\n",
            "Train Loss: 0.763 | Train Acc: 73.284% (36642/50000)\n",
            "Test Loss: 1.088 | Test Acc: 63.740% (6374/10000)\n",
            "Saving..\n",
            "\n",
            "Epoch: 5\n",
            "Train Loss: 0.662 | Train Acc: 76.864% (38432/50000)\n",
            "Test Loss: 0.700 | Test Acc: 76.810% (7681/10000)\n",
            "Saving..\n",
            "\n",
            "Epoch: 6\n",
            "Train Loss: 0.597 | Train Acc: 79.358% (39679/50000)\n",
            "Test Loss: 0.861 | Test Acc: 72.030% (7203/10000)\n",
            "\n",
            "Epoch: 7\n",
            "Train Loss: 0.552 | Train Acc: 80.970% (40485/50000)\n",
            "Test Loss: 0.653 | Test Acc: 77.560% (7756/10000)\n",
            "Saving..\n",
            "\n",
            "Epoch: 8\n",
            "Train Loss: 0.520 | Train Acc: 82.080% (41040/50000)\n",
            "Test Loss: 0.720 | Test Acc: 76.560% (7656/10000)\n",
            "\n",
            "Epoch: 9\n",
            "Train Loss: 0.500 | Train Acc: 82.790% (41395/50000)\n",
            "Test Loss: 0.653 | Test Acc: 78.870% (7887/10000)\n",
            "Saving..\n",
            "\n",
            "Epoch: 10\n",
            "Train Loss: 0.484 | Train Acc: 83.288% (41644/50000)\n",
            "Test Loss: 0.696 | Test Acc: 76.520% (7652/10000)\n",
            "\n",
            "Epoch: 11\n",
            "Train Loss: 0.465 | Train Acc: 83.954% (41977/50000)\n",
            "Test Loss: 0.726 | Test Acc: 76.700% (7670/10000)\n",
            "\n",
            "Epoch: 12\n",
            "Train Loss: 0.449 | Train Acc: 84.526% (42263/50000)\n",
            "Test Loss: 0.566 | Test Acc: 81.090% (8109/10000)\n",
            "Saving..\n",
            "\n",
            "Epoch: 13\n",
            "Train Loss: 0.441 | Train Acc: 84.826% (42413/50000)\n",
            "Test Loss: 0.494 | Test Acc: 83.440% (8344/10000)\n",
            "Saving..\n",
            "\n",
            "Epoch: 14\n",
            "Train Loss: 0.424 | Train Acc: 85.566% (42783/50000)\n",
            "Test Loss: 0.605 | Test Acc: 80.080% (8008/10000)\n",
            "\n",
            "Epoch: 15\n",
            "Train Loss: 0.428 | Train Acc: 85.418% (42709/50000)\n",
            "Test Loss: 0.479 | Test Acc: 83.520% (8352/10000)\n",
            "Saving..\n",
            "\n",
            "Epoch: 16\n",
            "Train Loss: 0.412 | Train Acc: 85.996% (42998/50000)\n",
            "Test Loss: 0.522 | Test Acc: 82.780% (8278/10000)\n",
            "\n",
            "Epoch: 17\n",
            "Train Loss: 0.402 | Train Acc: 86.212% (43106/50000)\n",
            "Test Loss: 0.876 | Test Acc: 72.430% (7243/10000)\n",
            "\n",
            "Epoch: 18\n",
            "Train Loss: 0.393 | Train Acc: 86.488% (43244/50000)\n",
            "Test Loss: 0.509 | Test Acc: 82.400% (8240/10000)\n",
            "\n",
            "Epoch: 19\n",
            "Train Loss: 0.388 | Train Acc: 86.840% (43420/50000)\n",
            "Test Loss: 0.513 | Test Acc: 83.050% (8305/10000)\n",
            "\n",
            "Epoch: 20\n",
            "Train Loss: 0.385 | Train Acc: 86.802% (43401/50000)\n",
            "Test Loss: 0.558 | Test Acc: 81.900% (8190/10000)\n",
            "\n",
            "Epoch: 21\n",
            "Train Loss: 0.381 | Train Acc: 86.950% (43475/50000)\n",
            "Test Loss: 0.587 | Test Acc: 81.380% (8138/10000)\n",
            "\n",
            "Epoch: 22\n",
            "Train Loss: 0.378 | Train Acc: 86.984% (43492/50000)\n",
            "Test Loss: 0.492 | Test Acc: 83.840% (8384/10000)\n",
            "Saving..\n",
            "\n",
            "Epoch: 23\n",
            "Train Loss: 0.369 | Train Acc: 87.288% (43644/50000)\n",
            "Test Loss: 0.477 | Test Acc: 84.370% (8437/10000)\n",
            "Saving..\n",
            "\n",
            "Epoch: 24\n",
            "Train Loss: 0.361 | Train Acc: 87.758% (43879/50000)\n",
            "Test Loss: 0.510 | Test Acc: 83.150% (8315/10000)\n",
            "\n",
            "Epoch: 25\n",
            "Train Loss: 0.360 | Train Acc: 87.844% (43922/50000)\n",
            "Test Loss: 0.547 | Test Acc: 82.370% (8237/10000)\n",
            "\n",
            "Epoch: 26\n",
            "Train Loss: 0.359 | Train Acc: 87.664% (43832/50000)\n",
            "Test Loss: 0.793 | Test Acc: 76.620% (7662/10000)\n",
            "\n",
            "Epoch: 27\n",
            "Train Loss: 0.355 | Train Acc: 87.884% (43942/50000)\n",
            "Test Loss: 0.541 | Test Acc: 83.030% (8303/10000)\n",
            "\n",
            "Epoch: 28\n",
            "Train Loss: 0.354 | Train Acc: 87.868% (43934/50000)\n",
            "Test Loss: 0.462 | Test Acc: 84.240% (8424/10000)\n",
            "\n",
            "Epoch: 29\n",
            "Train Loss: 0.349 | Train Acc: 88.008% (44004/50000)\n",
            "Test Loss: 0.435 | Test Acc: 85.190% (8519/10000)\n",
            "Saving..\n",
            "\n",
            "Epoch: 30\n",
            "Train Loss: 0.343 | Train Acc: 88.334% (44167/50000)\n",
            "Test Loss: 0.553 | Test Acc: 82.090% (8209/10000)\n",
            "\n",
            "Epoch: 31\n",
            "Train Loss: 0.340 | Train Acc: 88.512% (44256/50000)\n",
            "Test Loss: 0.429 | Test Acc: 86.020% (8602/10000)\n",
            "Saving..\n",
            "\n",
            "Epoch: 32\n",
            "Train Loss: 0.341 | Train Acc: 88.440% (44220/50000)\n",
            "Test Loss: 0.395 | Test Acc: 86.890% (8689/10000)\n",
            "Saving..\n",
            "\n",
            "Epoch: 33\n",
            "Train Loss: 0.337 | Train Acc: 88.538% (44269/50000)\n",
            "Test Loss: 0.524 | Test Acc: 82.900% (8290/10000)\n",
            "\n",
            "Epoch: 34\n",
            "Train Loss: 0.326 | Train Acc: 88.918% (44459/50000)\n",
            "Test Loss: 0.482 | Test Acc: 84.270% (8427/10000)\n",
            "\n",
            "Epoch: 35\n",
            "Train Loss: 0.332 | Train Acc: 88.726% (44363/50000)\n",
            "Test Loss: 0.529 | Test Acc: 82.860% (8286/10000)\n",
            "\n",
            "Epoch: 36\n",
            "Train Loss: 0.328 | Train Acc: 88.682% (44341/50000)\n",
            "Test Loss: 0.484 | Test Acc: 84.530% (8453/10000)\n",
            "\n",
            "Epoch: 37\n",
            "Train Loss: 0.327 | Train Acc: 88.868% (44434/50000)\n",
            "Test Loss: 0.511 | Test Acc: 82.910% (8291/10000)\n",
            "\n",
            "Epoch: 38\n",
            "Train Loss: 0.324 | Train Acc: 89.098% (44549/50000)\n",
            "Test Loss: 0.535 | Test Acc: 82.600% (8260/10000)\n",
            "\n",
            "Epoch: 39\n",
            "Train Loss: 0.322 | Train Acc: 89.050% (44525/50000)\n",
            "Test Loss: 0.501 | Test Acc: 83.400% (8340/10000)\n",
            "\n",
            "Epoch: 40\n",
            "Train Loss: 0.318 | Train Acc: 89.124% (44562/50000)\n",
            "Test Loss: 0.499 | Test Acc: 83.920% (8392/10000)\n",
            "\n",
            "Epoch: 41\n",
            "Train Loss: 0.316 | Train Acc: 89.148% (44574/50000)\n",
            "Test Loss: 0.412 | Test Acc: 86.340% (8634/10000)\n",
            "\n",
            "Epoch: 42\n",
            "Train Loss: 0.318 | Train Acc: 89.206% (44603/50000)\n",
            "Test Loss: 0.482 | Test Acc: 84.440% (8444/10000)\n",
            "\n",
            "Epoch: 43\n",
            "Train Loss: 0.310 | Train Acc: 89.518% (44759/50000)\n",
            "Test Loss: 0.456 | Test Acc: 85.460% (8546/10000)\n",
            "\n",
            "Epoch: 44\n",
            "Train Loss: 0.313 | Train Acc: 89.260% (44630/50000)\n",
            "Test Loss: 0.451 | Test Acc: 85.420% (8542/10000)\n",
            "\n",
            "Epoch: 45\n",
            "Train Loss: 0.310 | Train Acc: 89.408% (44704/50000)\n",
            "Test Loss: 0.475 | Test Acc: 84.510% (8451/10000)\n",
            "\n",
            "Epoch: 46\n",
            "Train Loss: 0.309 | Train Acc: 89.306% (44653/50000)\n",
            "Test Loss: 0.467 | Test Acc: 84.870% (8487/10000)\n",
            "\n",
            "Epoch: 47\n",
            "Train Loss: 0.306 | Train Acc: 89.650% (44825/50000)\n",
            "Test Loss: 0.459 | Test Acc: 84.780% (8478/10000)\n",
            "\n",
            "Epoch: 48\n",
            "Train Loss: 0.297 | Train Acc: 89.938% (44969/50000)\n",
            "Test Loss: 0.472 | Test Acc: 85.030% (8503/10000)\n",
            "\n",
            "Epoch: 49\n",
            "Train Loss: 0.298 | Train Acc: 89.862% (44931/50000)\n",
            "Test Loss: 0.439 | Test Acc: 85.620% (8562/10000)\n",
            "\n",
            "Epoch: 50\n",
            "Train Loss: 0.298 | Train Acc: 89.870% (44935/50000)\n",
            "Test Loss: 0.378 | Test Acc: 87.170% (8717/10000)\n",
            "Saving..\n",
            "\n",
            "Epoch: 51\n",
            "Train Loss: 0.295 | Train Acc: 89.990% (44995/50000)\n",
            "Test Loss: 0.436 | Test Acc: 85.530% (8553/10000)\n",
            "\n",
            "Epoch: 52\n",
            "Train Loss: 0.292 | Train Acc: 90.136% (45068/50000)\n",
            "Test Loss: 0.380 | Test Acc: 87.450% (8745/10000)\n",
            "Saving..\n",
            "\n",
            "Epoch: 53\n",
            "Train Loss: 0.296 | Train Acc: 89.790% (44895/50000)\n",
            "Test Loss: 0.384 | Test Acc: 87.410% (8741/10000)\n",
            "\n",
            "Epoch: 54\n",
            "Train Loss: 0.291 | Train Acc: 90.106% (45053/50000)\n",
            "Test Loss: 0.405 | Test Acc: 86.530% (8653/10000)\n",
            "\n",
            "Epoch: 55\n",
            "Train Loss: 0.292 | Train Acc: 89.904% (44952/50000)\n",
            "Test Loss: 0.491 | Test Acc: 83.850% (8385/10000)\n",
            "\n",
            "Epoch: 56\n",
            "Train Loss: 0.285 | Train Acc: 90.352% (45176/50000)\n",
            "Test Loss: 0.451 | Test Acc: 84.970% (8497/10000)\n",
            "\n",
            "Epoch: 57\n",
            "Train Loss: 0.288 | Train Acc: 90.250% (45125/50000)\n",
            "Test Loss: 0.575 | Test Acc: 81.610% (8161/10000)\n",
            "\n",
            "Epoch: 58\n",
            "Train Loss: 0.288 | Train Acc: 90.198% (45099/50000)\n",
            "Test Loss: 0.430 | Test Acc: 86.200% (8620/10000)\n",
            "\n",
            "Epoch: 59\n",
            "Train Loss: 0.281 | Train Acc: 90.456% (45228/50000)\n",
            "Test Loss: 0.542 | Test Acc: 82.190% (8219/10000)\n",
            "\n",
            "Epoch: 60\n",
            "Train Loss: 0.280 | Train Acc: 90.500% (45250/50000)\n",
            "Test Loss: 0.394 | Test Acc: 87.510% (8751/10000)\n",
            "Saving..\n",
            "\n",
            "Epoch: 61\n",
            "Train Loss: 0.274 | Train Acc: 90.674% (45337/50000)\n",
            "Test Loss: 0.449 | Test Acc: 85.720% (8572/10000)\n",
            "\n",
            "Epoch: 62\n",
            "Train Loss: 0.276 | Train Acc: 90.644% (45322/50000)\n",
            "Test Loss: 0.439 | Test Acc: 86.160% (8616/10000)\n",
            "\n",
            "Epoch: 63\n",
            "Train Loss: 0.271 | Train Acc: 90.802% (45401/50000)\n",
            "Test Loss: 0.439 | Test Acc: 85.860% (8586/10000)\n",
            "\n",
            "Epoch: 64\n",
            "Train Loss: 0.274 | Train Acc: 90.680% (45340/50000)\n",
            "Test Loss: 0.420 | Test Acc: 86.560% (8656/10000)\n",
            "\n",
            "Epoch: 65\n",
            "Train Loss: 0.267 | Train Acc: 90.834% (45417/50000)\n",
            "Test Loss: 0.390 | Test Acc: 87.280% (8728/10000)\n",
            "\n",
            "Epoch: 66\n",
            "Train Loss: 0.266 | Train Acc: 90.944% (45472/50000)\n",
            "Test Loss: 0.420 | Test Acc: 86.220% (8622/10000)\n",
            "\n",
            "Epoch: 67\n",
            "Train Loss: 0.267 | Train Acc: 90.842% (45421/50000)\n",
            "Test Loss: 0.405 | Test Acc: 86.410% (8641/10000)\n",
            "\n",
            "Epoch: 68\n",
            "Train Loss: 0.263 | Train Acc: 91.008% (45504/50000)\n",
            "Test Loss: 0.424 | Test Acc: 86.450% (8645/10000)\n",
            "\n",
            "Epoch: 69\n",
            "Train Loss: 0.258 | Train Acc: 91.136% (45568/50000)\n",
            "Test Loss: 0.405 | Test Acc: 86.620% (8662/10000)\n",
            "\n",
            "Epoch: 70\n",
            "Train Loss: 0.264 | Train Acc: 90.972% (45486/50000)\n",
            "Test Loss: 0.338 | Test Acc: 88.540% (8854/10000)\n",
            "Saving..\n",
            "\n",
            "Epoch: 71\n",
            "Train Loss: 0.255 | Train Acc: 91.346% (45673/50000)\n",
            "Test Loss: 0.378 | Test Acc: 87.530% (8753/10000)\n",
            "\n",
            "Epoch: 72\n",
            "Train Loss: 0.257 | Train Acc: 91.304% (45652/50000)\n",
            "Test Loss: 0.387 | Test Acc: 87.360% (8736/10000)\n",
            "\n",
            "Epoch: 73\n",
            "Train Loss: 0.256 | Train Acc: 91.342% (45671/50000)\n",
            "Test Loss: 0.537 | Test Acc: 83.390% (8339/10000)\n",
            "\n",
            "Epoch: 74\n",
            "Train Loss: 0.245 | Train Acc: 91.656% (45828/50000)\n",
            "Test Loss: 0.484 | Test Acc: 84.450% (8445/10000)\n",
            "\n",
            "Epoch: 75\n",
            "Train Loss: 0.243 | Train Acc: 91.802% (45901/50000)\n",
            "Test Loss: 0.404 | Test Acc: 86.980% (8698/10000)\n",
            "\n",
            "Epoch: 76\n",
            "Train Loss: 0.248 | Train Acc: 91.638% (45819/50000)\n",
            "Test Loss: 0.383 | Test Acc: 87.540% (8754/10000)\n",
            "\n",
            "Epoch: 77\n",
            "Train Loss: 0.239 | Train Acc: 91.824% (45912/50000)\n",
            "Test Loss: 0.370 | Test Acc: 88.090% (8809/10000)\n",
            "\n",
            "Epoch: 78\n",
            "Train Loss: 0.244 | Train Acc: 91.644% (45822/50000)\n",
            "Test Loss: 0.414 | Test Acc: 86.670% (8667/10000)\n",
            "\n",
            "Epoch: 79\n",
            "Train Loss: 0.238 | Train Acc: 91.906% (45953/50000)\n",
            "Test Loss: 0.725 | Test Acc: 78.810% (7881/10000)\n",
            "\n",
            "Epoch: 80\n",
            "Train Loss: 0.241 | Train Acc: 91.892% (45946/50000)\n",
            "Test Loss: 0.418 | Test Acc: 86.480% (8648/10000)\n",
            "\n",
            "Epoch: 81\n",
            "Train Loss: 0.235 | Train Acc: 92.000% (46000/50000)\n",
            "Test Loss: 0.361 | Test Acc: 88.040% (8804/10000)\n",
            "\n",
            "Epoch: 82\n",
            "Train Loss: 0.236 | Train Acc: 92.004% (46002/50000)\n",
            "Test Loss: 0.323 | Test Acc: 89.590% (8959/10000)\n",
            "Saving..\n",
            "\n",
            "Epoch: 83\n",
            "Train Loss: 0.229 | Train Acc: 92.096% (46048/50000)\n",
            "Test Loss: 0.379 | Test Acc: 87.770% (8777/10000)\n",
            "\n",
            "Epoch: 84\n",
            "Train Loss: 0.226 | Train Acc: 92.302% (46151/50000)\n",
            "Test Loss: 0.388 | Test Acc: 87.190% (8719/10000)\n",
            "\n",
            "Epoch: 85\n",
            "Train Loss: 0.229 | Train Acc: 92.080% (46040/50000)\n",
            "Test Loss: 0.380 | Test Acc: 87.700% (8770/10000)\n",
            "\n",
            "Epoch: 86\n",
            "Train Loss: 0.223 | Train Acc: 92.420% (46210/50000)\n",
            "Test Loss: 0.368 | Test Acc: 88.130% (8813/10000)\n",
            "\n",
            "Epoch: 87\n",
            "Train Loss: 0.220 | Train Acc: 92.516% (46258/50000)\n",
            "Test Loss: 0.400 | Test Acc: 87.330% (8733/10000)\n",
            "\n",
            "Epoch: 88\n",
            "Train Loss: 0.220 | Train Acc: 92.504% (46252/50000)\n",
            "Test Loss: 0.346 | Test Acc: 88.390% (8839/10000)\n",
            "\n",
            "Epoch: 89\n",
            "Train Loss: 0.212 | Train Acc: 92.836% (46418/50000)\n",
            "Test Loss: 0.496 | Test Acc: 84.380% (8438/10000)\n",
            "\n",
            "Epoch: 90\n",
            "Train Loss: 0.211 | Train Acc: 92.818% (46409/50000)\n",
            "Test Loss: 0.391 | Test Acc: 87.660% (8766/10000)\n",
            "\n",
            "Epoch: 91\n",
            "Train Loss: 0.212 | Train Acc: 92.832% (46416/50000)\n",
            "Test Loss: 0.353 | Test Acc: 88.470% (8847/10000)\n",
            "\n",
            "Epoch: 92\n",
            "Train Loss: 0.208 | Train Acc: 92.854% (46427/50000)\n",
            "Test Loss: 0.456 | Test Acc: 85.780% (8578/10000)\n",
            "\n",
            "Epoch: 93\n",
            "Train Loss: 0.203 | Train Acc: 93.118% (46559/50000)\n",
            "Test Loss: 0.352 | Test Acc: 88.660% (8866/10000)\n",
            "\n",
            "Epoch: 94\n",
            "Train Loss: 0.204 | Train Acc: 93.020% (46510/50000)\n",
            "Test Loss: 0.470 | Test Acc: 85.270% (8527/10000)\n",
            "\n",
            "Epoch: 95\n",
            "Train Loss: 0.201 | Train Acc: 93.094% (46547/50000)\n",
            "Test Loss: 0.402 | Test Acc: 87.840% (8784/10000)\n",
            "\n",
            "Epoch: 96\n",
            "Train Loss: 0.199 | Train Acc: 93.236% (46618/50000)\n",
            "Test Loss: 0.414 | Test Acc: 86.930% (8693/10000)\n",
            "\n",
            "Epoch: 97\n",
            "Train Loss: 0.193 | Train Acc: 93.436% (46718/50000)\n",
            "Test Loss: 0.352 | Test Acc: 88.490% (8849/10000)\n",
            "\n",
            "Epoch: 98\n",
            "Train Loss: 0.194 | Train Acc: 93.340% (46670/50000)\n",
            "Test Loss: 0.314 | Test Acc: 89.540% (8954/10000)\n",
            "\n",
            "Epoch: 99\n",
            "Train Loss: 0.185 | Train Acc: 93.462% (46731/50000)\n",
            "Test Loss: 0.313 | Test Acc: 90.050% (9005/10000)\n",
            "Saving..\n",
            "\n",
            "Epoch: 100\n",
            "Train Loss: 0.188 | Train Acc: 93.626% (46813/50000)\n",
            "Test Loss: 0.381 | Test Acc: 88.180% (8818/10000)\n",
            "\n",
            "Epoch: 101\n",
            "Train Loss: 0.186 | Train Acc: 93.626% (46813/50000)\n",
            "Test Loss: 0.417 | Test Acc: 86.830% (8683/10000)\n",
            "\n",
            "Epoch: 102\n",
            "Train Loss: 0.181 | Train Acc: 93.764% (46882/50000)\n",
            "Test Loss: 0.332 | Test Acc: 89.520% (8952/10000)\n",
            "\n",
            "Epoch: 103\n",
            "Train Loss: 0.179 | Train Acc: 93.896% (46948/50000)\n",
            "Test Loss: 0.309 | Test Acc: 90.070% (9007/10000)\n",
            "Saving..\n",
            "\n",
            "Epoch: 104\n",
            "Train Loss: 0.172 | Train Acc: 94.150% (47075/50000)\n",
            "Test Loss: 0.354 | Test Acc: 88.860% (8886/10000)\n",
            "\n",
            "Epoch: 105\n",
            "Train Loss: 0.173 | Train Acc: 94.096% (47048/50000)\n",
            "Test Loss: 0.360 | Test Acc: 88.890% (8889/10000)\n",
            "\n",
            "Epoch: 106\n",
            "Train Loss: 0.175 | Train Acc: 94.066% (47033/50000)\n",
            "Test Loss: 0.382 | Test Acc: 88.390% (8839/10000)\n",
            "\n",
            "Epoch: 107\n",
            "Train Loss: 0.167 | Train Acc: 94.226% (47113/50000)\n",
            "Test Loss: 0.384 | Test Acc: 88.450% (8845/10000)\n",
            "\n",
            "Epoch: 108\n",
            "Train Loss: 0.170 | Train Acc: 94.184% (47092/50000)\n",
            "Test Loss: 0.278 | Test Acc: 90.960% (9096/10000)\n",
            "Saving..\n",
            "\n",
            "Epoch: 109\n",
            "Train Loss: 0.158 | Train Acc: 94.660% (47330/50000)\n",
            "Test Loss: 0.391 | Test Acc: 88.280% (8828/10000)\n",
            "\n",
            "Epoch: 110\n",
            "Train Loss: 0.164 | Train Acc: 94.402% (47201/50000)\n",
            "Test Loss: 0.376 | Test Acc: 88.260% (8826/10000)\n",
            "\n",
            "Epoch: 111\n",
            "Train Loss: 0.158 | Train Acc: 94.560% (47280/50000)\n",
            "Test Loss: 0.345 | Test Acc: 89.070% (8907/10000)\n",
            "\n",
            "Epoch: 112\n",
            "Train Loss: 0.156 | Train Acc: 94.720% (47360/50000)\n",
            "Test Loss: 0.360 | Test Acc: 88.340% (8834/10000)\n",
            "\n",
            "Epoch: 113\n",
            "Train Loss: 0.152 | Train Acc: 94.928% (47464/50000)\n",
            "Test Loss: 0.308 | Test Acc: 90.510% (9051/10000)\n",
            "\n",
            "Epoch: 114\n",
            "Train Loss: 0.150 | Train Acc: 94.958% (47479/50000)\n",
            "Test Loss: 0.305 | Test Acc: 90.510% (9051/10000)\n",
            "\n",
            "Epoch: 115\n",
            "Train Loss: 0.143 | Train Acc: 95.222% (47611/50000)\n",
            "Test Loss: 0.361 | Test Acc: 89.060% (8906/10000)\n",
            "\n",
            "Epoch: 116\n",
            "Train Loss: 0.145 | Train Acc: 95.040% (47520/50000)\n",
            "Test Loss: 0.284 | Test Acc: 90.690% (9069/10000)\n",
            "\n",
            "Epoch: 117\n",
            "Train Loss: 0.140 | Train Acc: 95.204% (47602/50000)\n",
            "Test Loss: 0.330 | Test Acc: 90.060% (9006/10000)\n",
            "\n",
            "Epoch: 118\n",
            "Train Loss: 0.136 | Train Acc: 95.348% (47674/50000)\n",
            "Test Loss: 0.371 | Test Acc: 88.280% (8828/10000)\n",
            "\n",
            "Epoch: 119\n",
            "Train Loss: 0.138 | Train Acc: 95.314% (47657/50000)\n",
            "Test Loss: 0.373 | Test Acc: 89.090% (8909/10000)\n",
            "\n",
            "Epoch: 120\n",
            "Train Loss: 0.135 | Train Acc: 95.326% (47663/50000)\n",
            "Test Loss: 0.324 | Test Acc: 90.110% (9011/10000)\n",
            "\n",
            "Epoch: 121\n",
            "Train Loss: 0.126 | Train Acc: 95.726% (47863/50000)\n",
            "Test Loss: 0.326 | Test Acc: 89.980% (8998/10000)\n",
            "\n",
            "Epoch: 122\n",
            "Train Loss: 0.123 | Train Acc: 95.866% (47933/50000)\n",
            "Test Loss: 0.326 | Test Acc: 90.380% (9038/10000)\n",
            "\n",
            "Epoch: 123\n",
            "Train Loss: 0.124 | Train Acc: 95.694% (47847/50000)\n",
            "Test Loss: 0.411 | Test Acc: 87.400% (8740/10000)\n",
            "\n",
            "Epoch: 124\n",
            "Train Loss: 0.122 | Train Acc: 95.846% (47923/50000)\n",
            "Test Loss: 0.333 | Test Acc: 90.000% (9000/10000)\n",
            "\n",
            "Epoch: 125\n",
            "Train Loss: 0.118 | Train Acc: 95.932% (47966/50000)\n",
            "Test Loss: 0.283 | Test Acc: 91.100% (9110/10000)\n",
            "Saving..\n",
            "\n",
            "Epoch: 126\n",
            "Train Loss: 0.113 | Train Acc: 96.104% (48052/50000)\n",
            "Test Loss: 0.305 | Test Acc: 90.680% (9068/10000)\n",
            "\n",
            "Epoch: 127\n",
            "Train Loss: 0.109 | Train Acc: 96.204% (48102/50000)\n",
            "Test Loss: 0.272 | Test Acc: 91.490% (9149/10000)\n",
            "Saving..\n",
            "\n",
            "Epoch: 128\n",
            "Train Loss: 0.107 | Train Acc: 96.364% (48182/50000)\n",
            "Test Loss: 0.315 | Test Acc: 90.220% (9022/10000)\n",
            "\n",
            "Epoch: 129\n",
            "Train Loss: 0.102 | Train Acc: 96.532% (48266/50000)\n",
            "Test Loss: 0.260 | Test Acc: 92.030% (9203/10000)\n",
            "Saving..\n",
            "\n",
            "Epoch: 130\n",
            "Train Loss: 0.098 | Train Acc: 96.628% (48314/50000)\n",
            "Test Loss: 0.281 | Test Acc: 91.880% (9188/10000)\n",
            "\n",
            "Epoch: 131\n",
            "Train Loss: 0.097 | Train Acc: 96.812% (48406/50000)\n",
            "Test Loss: 0.346 | Test Acc: 90.390% (9039/10000)\n",
            "\n",
            "Epoch: 132\n",
            "Train Loss: 0.100 | Train Acc: 96.610% (48305/50000)\n",
            "Test Loss: 0.277 | Test Acc: 91.590% (9159/10000)\n",
            "\n",
            "Epoch: 133\n",
            "Train Loss: 0.088 | Train Acc: 97.052% (48526/50000)\n",
            "Test Loss: 0.304 | Test Acc: 90.670% (9067/10000)\n",
            "\n",
            "Epoch: 134\n",
            "Train Loss: 0.088 | Train Acc: 97.102% (48551/50000)\n",
            "Test Loss: 0.341 | Test Acc: 89.980% (8998/10000)\n"
          ]
        }
      ]
    },
    {
      "cell_type": "code",
      "source": [
        "plt.plot(range(1,136), save_acc['train'])\n",
        "plt.xlabel(\"epoch\")\n",
        "plt.ylabel(\"train accuracy\")\n",
        "plt.title(\"Train Accuracy vs Epoch\")"
      ],
      "metadata": {
        "id": "ijwF2Koij2y9",
        "colab": {
          "base_uri": "https://localhost:8080/",
          "height": 489
        },
        "outputId": "a27b532e-0d8a-4088-c679-ffcfa6a20fdb"
      },
      "execution_count": 22,
      "outputs": [
        {
          "output_type": "execute_result",
          "data": {
            "text/plain": [
              "Text(0.5, 1.0, 'Train Accuracy vs Epoch')"
            ]
          },
          "metadata": {},
          "execution_count": 22
        },
        {
          "output_type": "display_data",
          "data": {
            "text/plain": [
              "<Figure size 640x480 with 1 Axes>"
            ],
            "image/png": "[encoded data removed]"
          },
          "metadata": {}
        }
      ]
    },
    {
      "cell_type": "code",
      "source": [
        "plt.plot(range(1,136), save_acc['test'])\n",
        "plt.xlabel(\"epochs\")\n",
        "plt.ylabel(\"test accuracy\")\n",
        "plt.title(\"Test Accuracy vs Epoch\")"
      ],
      "metadata": {
        "id": "19ikIlu6ps-o",
        "colab": {
          "base_uri": "https://localhost:8080/",
          "height": 489
        },
        "outputId": "f1ecbea4-3287-4aaa-9abf-c84d0596ea3a"
      },
      "execution_count": 23,
      "outputs": [
        {
          "output_type": "execute_result",
          "data": {
            "text/plain": [
              "Text(0.5, 1.0, 'Test Accuracy vs Epoch')"
            ]
          },
          "metadata": {},
          "execution_count": 23
        },
        {
          "output_type": "display_data",
          "data": {
            "text/plain": [
              "<Figure size 640x480 with 1 Axes>"
            ],
            "image/png": "[encoded data removed]"
          },
          "metadata": {}
        }
      ]
    },
    {
      "cell_type": "code",
      "source": [
        "plt.plot(range(1,136), save_loss['train'])\n",
        "plt.xlabel(\"epoch\")\n",
        "plt.ylabel(\"train loss\")\n",
        "plt.title(\"Train Loss vs Epoch\")"
      ],
      "metadata": {
        "id": "F_Sez2pqkZ-B",
        "colab": {
          "base_uri": "https://localhost:8080/",
          "height": 489
        },
        "outputId": "82ced584-c166-49fc-ac4b-c5b6e62a961a"
      },
      "execution_count": 25,
      "outputs": [
        {
          "output_type": "execute_result",
          "data": {
            "text/plain": [
              "Text(0.5, 1.0, 'Train Loss vs Epoch')"
            ]
          },
          "metadata": {},
          "execution_count": 25
        },
        {
          "output_type": "display_data",
          "data": {
            "text/plain": [
              "<Figure size 640x480 with 1 Axes>"
            ],
            "image/png": "[encoded data removed]"
          },
          "metadata": {}
        }
      ]
    },
    {
      "cell_type": "code",
      "source": [
        "plt.plot(range(1,136), save_loss['test'])\n",
        "plt.xlabel(\"epoch\")\n",
        "plt.ylabel(\"test loss\")\n",
        "plt.title(\"Test Loss vs Epoch\")"
      ],
      "metadata": {
        "id": "qWJRLAkiqm1w",
        "colab": {
          "base_uri": "https://localhost:8080/",
          "height": 489
        },
        "outputId": "948bbb26-df4c-4a69-8be8-b66fd2770ef6"
      },
      "execution_count": 26,
      "outputs": [
        {
          "output_type": "execute_result",
          "data": {
            "text/plain": [
              "Text(0.5, 1.0, 'Test Loss vs Epoch')"
            ]
          },
          "metadata": {},
          "execution_count": 26
        },
        {
          "output_type": "display_data",
          "data": {
            "text/plain": [
              "<Figure size 640x480 with 1 Axes>"
            ],
            "image/png": "[encoded data removed]"
          },
          "metadata": {}
        }
      ]
    }
  ]
}